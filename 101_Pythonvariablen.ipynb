{
 "cells": [
  {
   "cell_type": "markdown",
   "metadata": {},
   "source": [
    "Kurs 5.3 \"Vom Gehirn Lernen\" -- Python-Tutorial  | [Startseite](index.ipynb)\n",
    "\n",
    "---"
   ]
  },
  {
   "cell_type": "markdown",
   "metadata": {},
   "source": [
    "# 101 - Grundlagen der Programmierung in Python"
   ]
  },
  {
   "cell_type": "markdown",
   "metadata": {},
   "source": [
    "- [Aufgabe 1 - Werte und Typen](#Aufgabe-1---Werte-und-Typen)\n",
    "- [Strings](#Strings)\n",
    "- [Aufgabe 2 - Strings und Dokumentation](#Aufgabe-2---Strings-und-Dokumentation)\n",
    "- [Aufgabe 3 - String Formatierung](#Aufgabe-3---String-Formatierung)\n",
    "- [Listen und Tupel](#Listen-und-Tupel)\n",
    "- [Slicing](#Slicing)\n",
    "- [Dictionaries](#Dictionaries)\n",
    "- [Aufgabe 4 - Dictionaries](#Aufgabe-4---Dictionaries)"
   ]
  },
  {
   "cell_type": "markdown",
   "metadata": {},
   "source": [
    "## Über Variablen\n",
    "\n",
    "Pythoncode besteht aus einer Aneinanderreihung von *Befehlen*, die der sogenannte Python-Interpreter _nacheinander_ ausführt. Mit anderen Worten geht der Interpreter Zeile für Zeile durch ein Python-Script oder, wie in unserem Fall, durch eine Jupyter-Codezelle und übersetzt das, was in der jeweiligen Zeile steht, in elementare \"Operationen\", die dann auf der CPU ausgeführt werden können.\n",
    "\n",
    "Ein solcher Befehl ist die Zuweisung eines Wertes zu einer **Variablen**. Dabei übersetzt der Interpreter den Wert der Variablen in Nullen und Einsen (wir nennen das _binäre Darstellung_) und schreibt diese an einen Ort im Arbeitsspeicher.\n",
    "Eine mögliche Übersetzung von der natürlichen Zahl 42 in das Binärsystem ist `0010 1010`, die Codierung des Buchstabens \"A\" ist `0010 0001` (nach dem [ACSII-Standard](https://de.wikipedia.org/wiki/American_Standard_Code_for_Information_Interchange)).\n",
    "Und gleichzeitig bekommt der Ort einen Namen, den wir uns Menschen gut merken können, damit wir später wieder auf diese Variable zugreifen können.\n",
    "\n",
    "\n",
    "Im unteren Beispiel weisen wir der Variablen mit dem Namen `x` den Wert `42` zu."
   ]
  },
  {
   "cell_type": "code",
   "execution_count": null,
   "metadata": {},
   "outputs": [],
   "source": [
    "x = 42\n",
    "# Diese Zelle auswählen und mit `<SHIFT> + <ENTER>` ausführen.\n",
    "# Der letzte Rückgabewert der Zelle wird dann unten ausgegeben,\n",
    "# hier also der Wert von `x`:\n",
    "x"
   ]
  },
  {
   "cell_type": "markdown",
   "metadata": {},
   "source": [
    "> **Hinweis:** Dieses Kursmaterial besteht aus interaktiven [Jupyter Notebooks](http://jupyter.org). Jede _Zelle_, wie die obige, könnt ihr per Klick oder mit den Pfeiltasten auswählen und mit `<SHIFT> + <ENTER>` ausführen. Probiert's mal mit der Zelle oben!\n",
    "> \n",
    "> **Geht, um dem Kurs zu folgen, _alle_ Zellen nacheinander durch und führt sie aus.**\n",
    ">\n",
    "> Wie hier demonstriert gibt das Jupyter Notebook immer den letzten Rückgabewert einer Zelle aus. \n",
    "\n",
    "Wir können auch die `print()` Funktion verwenden, um den Wert einer Variablen auf dem Bildschirm auszugeben."
   ]
  },
  {
   "cell_type": "code",
   "execution_count": null,
   "metadata": {},
   "outputs": [],
   "source": [
    "print(x)"
   ]
  },
  {
   "cell_type": "markdown",
   "metadata": {},
   "source": [
    "(Guter) Code besteht nicht nur aus Befehlen, sondern auch aus Kommentaren. Das ist Text in deinem Code, der vom Interpreter übersprungen wird. Das ist ganz nützlich, um z.B. in menschlicher Sprache zu beschreiben, was im Code passiert. Oder einfach, um zu Testzwecken Codezeilen zu deaktivieren.\n",
    "\n",
    "In Python werden Kommentare mit einer Raute (`#`) gekennzeichnet. Alles, was in der Zeile nach dem `#` kommt, wird vom Interpreter übersprungen."
   ]
  },
  {
   "cell_type": "code",
   "execution_count": null,
   "metadata": {},
   "outputs": [],
   "source": [
    "# Ein Kommentar\n",
    "print(\"Kein Kommentar!\")  # wieder ein Kommentar\n",
    "# print('Diese Zeile wird nicht interpretiert, obwohl sie ein regulärer Pythonbefehl wäre')"
   ]
  },
  {
   "cell_type": "markdown",
   "metadata": {},
   "source": [
    "Damit der Interpreter weiß, wie er einen Wert in Nullen und Einsen übersetzen muss (oder umgekehrt, wie er eine bestimmte Kombination von Nullen und Einsen interpretieren soll), haben Variablen immer einen sogenannten **Datentyp**. \n",
    "Häufige Datentypen sind:\n",
    "\n",
    "- `int` für ganze Zahlen (englisch: _integer_), z.B. `1`, `42`, `-10`, \n",
    "- `float` für Fließkommazahlen, z.B. `0.5`, `3.14`, `1e10`,\n",
    "- `str` für Zeichenketten (_Strings_), z.B. `\"Hello World!\"`,\n",
    "- `boolean` für Wahrheitswerte (_Booleans_), also `True` und `False`\n",
    "\n",
    "> Die Typen der Python Standardlibrary findet ihr in der [Dokumentation](https://docs.python.org/3/library/stdtypes.html).\n",
    "\n",
    "**Gut zu wissen:** In Python (im Gegensatz zu manch anderen Programmiersprachen wie z.B. C) sind Variablen dynamisch typisiert. Das heißt, dass der Interpreter automatisch erkennt, welche Datentypen man verwendet und den Typ einer Variablen entsprechend anpasst.\n",
    "\n",
    "**Hinweis:** Mit der Funktion `type` kann man sich ausgeben lassen, welcher Datentyp eine Variable hat"
   ]
  },
  {
   "cell_type": "code",
   "execution_count": null,
   "metadata": {},
   "outputs": [],
   "source": [
    "type(x)"
   ]
  },
  {
   "cell_type": "code",
   "execution_count": null,
   "metadata": {},
   "outputs": [],
   "source": [
    "x = 0.5  # jetzt ändern wir den Wert von x zu 0.5, und x wird damit zu einem float\n",
    "type(x)"
   ]
  },
  {
   "cell_type": "markdown",
   "metadata": {},
   "source": [
    "Weiterhin können Werte in einen anderen Typ konvertiert werden:"
   ]
  },
  {
   "cell_type": "code",
   "execution_count": null,
   "metadata": {},
   "outputs": [],
   "source": [
    "x = int(0.5)  # Bei der Konvertierung zu int wird immer abgerundet!\n",
    "print(x)\n",
    "\n",
    "y = 2\n",
    "print(type(y))\n",
    "y = float(y)\n",
    "print(y, type(y))"
   ]
  },
  {
   "cell_type": "markdown",
   "metadata": {},
   "source": [
    "Die grundlegenden Rechenoperationen `+`, `-`, `*`, `/` und `**` (= Potenz) sind ebenfalls in Python verfügbar und verhalten sich, wie man es erwartet:"
   ]
  },
  {
   "cell_type": "code",
   "execution_count": null,
   "metadata": {},
   "outputs": [],
   "source": [
    "1 + 3"
   ]
  },
  {
   "cell_type": "code",
   "execution_count": null,
   "metadata": {},
   "outputs": [],
   "source": [
    "3 / 2"
   ]
  },
  {
   "cell_type": "markdown",
   "metadata": {},
   "source": [
    "**Gut zu wissen:** Das Ergebnis einer Rechenoperation bekommt automatisch den \"richtigen\" Datentyp zugewiesen. Z.B. resultiert eine Division zweier Integers in einem Float oder die Addition eines Floats und eines Integers ebenso in einem Float:"
   ]
  },
  {
   "cell_type": "code",
   "execution_count": null,
   "metadata": {},
   "outputs": [],
   "source": [
    "3.14 + 6"
   ]
  },
  {
   "cell_type": "code",
   "execution_count": null,
   "metadata": {},
   "outputs": [],
   "source": [
    "3**2"
   ]
  },
  {
   "cell_type": "markdown",
   "metadata": {},
   "source": [
    "### Aufgabe 1 - Werte und Typen\n",
    "\n",
    "Der Operator zur Potenzierung ist in Python `**`. Weise einer Variablen `y` folgende Werte zu und lasse dir dann ihren Wert und Typ ausgeben. Stimmen Wert und Typ mit deinen Erwartungen überein?"
   ]
  },
  {
   "cell_type": "markdown",
   "metadata": {},
   "source": [
    "a) $4^3$"
   ]
  },
  {
   "cell_type": "markdown",
   "metadata": {},
   "source": [
    "> **Hinweis:** Dies ist eine Übungsaufgabe. Verwende die Zelle unten, um sie zu lösen. **Entferne** dazu den Platzhalter-Code\n",
    ">\n",
    "> ```python\n",
    "> # DEINE LÖSUNG HIER\n",
    "> ```\n",
    ">\n",
    "> und schreibe stattdessen den Code zur Lösung der Aufgabe."
   ]
  },
  {
   "cell_type": "code",
   "execution_count": null,
   "metadata": {
    "nbgrader": {
     "grade": false,
     "grade_id": "101-1a-sol",
     "locked": false,
     "schema_version": 1,
     "solution": true
    }
   },
   "outputs": [],
   "source": [
    "# DEINE LÖSUNG HIER"
   ]
  },
  {
   "cell_type": "markdown",
   "metadata": {},
   "source": [
    "> **Hinweis:** Auf die Lösung jeder Aufgabe folgt eine Test-Zelle wie die folgende, mit der du deine Lösung überprüfen kannst. Führe einfach diese Zelle aus. Wenn etwas an deiner Lösung nicht stimmt, erhälst du eine Fehlermeldung mit Hinweisen."
   ]
  },
  {
   "cell_type": "code",
   "execution_count": null,
   "metadata": {},
   "outputs": [],
   "source": [
    "# DEINE LÖSUNG HIER"
   ]
  },
  {
   "cell_type": "code",
   "execution_count": null,
   "metadata": {
    "nbgrader": {
     "grade": true,
     "grade_id": "101-1a-test",
     "locked": true,
     "points": 1,
     "schema_version": 1,
     "solution": false
    }
   },
   "outputs": [],
   "source": [
    "try:\n",
    "    y\n",
    "except NameError:\n",
    "    raise NameError(\n",
    "        \"Es gibt keine Variable 'y'. Weise den Wert einer Variablen mit diesem Namen zu.\"\n",
    "    )\n",
    "\n",
    "assert y == 64, \"Die Variable hat nicht den richtigen Wert. Überprüfe deine Rechnung.\"\n",
    "print(\"👍 Sehr gut!\")"
   ]
  },
  {
   "cell_type": "markdown",
   "metadata": {},
   "source": [
    "b) $2+3.4^2$"
   ]
  },
  {
   "cell_type": "code",
   "execution_count": null,
   "metadata": {
    "nbgrader": {
     "grade": false,
     "grade_id": "101-1b-sol",
     "locked": false,
     "schema_version": 1,
     "solution": true
    }
   },
   "outputs": [],
   "source": [
    "# DEINE LÖSUNG HIER"
   ]
  },
  {
   "cell_type": "code",
   "execution_count": null,
   "metadata": {
    "nbgrader": {
     "grade": true,
     "grade_id": "101-1b-test",
     "locked": true,
     "points": 1,
     "schema_version": 1,
     "solution": false
    }
   },
   "outputs": [],
   "source": [
    "try:\n",
    "    y\n",
    "except NameError:\n",
    "    raise NameError(\n",
    "        \"Es gibt keine Variable 'y'. Weise den Wert einer Variablen mit diesem Namen zu.\"\n",
    "    )\n",
    "\n",
    "assert (\n",
    "    y == 2 + 3.4**2\n",
    "), \"Die Variable hat nicht den richtigen Wert. Überprüfe deine Rechnung.\"\n",
    "print(\"Ok, du hast es verstanden.\")"
   ]
  },
  {
   "cell_type": "markdown",
   "metadata": {},
   "source": [
    "## Strings"
   ]
  },
  {
   "cell_type": "markdown",
   "metadata": {},
   "source": [
    "Strings sind **Zeichenketten** wie:"
   ]
  },
  {
   "cell_type": "code",
   "execution_count": null,
   "metadata": {},
   "outputs": [],
   "source": [
    "s = \"Hello World\""
   ]
  },
  {
   "cell_type": "markdown",
   "metadata": {},
   "source": [
    "und werden in Python vom Typ `str` repräsentiert. Um einen String zu erstellen können wir einzelne (`'`), doppelte (`\"`) oder dreifache (`'''` oder `\"\"\"`, für mehrzeilige Strings) Anführungszeichen verwenden, sodass das jeweils andere Anführungszeichen im String verwendet werden kann:"
   ]
  },
  {
   "cell_type": "code",
   "execution_count": null,
   "metadata": {},
   "outputs": [],
   "source": [
    "\"I'm happy!\""
   ]
  },
  {
   "cell_type": "markdown",
   "metadata": {},
   "source": [
    "Alternativ können Steuerzeichen im String auch _escaped_ werden:"
   ]
  },
  {
   "cell_type": "code",
   "execution_count": null,
   "metadata": {},
   "outputs": [],
   "source": [
    "'Say \"hi\"'"
   ]
  },
  {
   "cell_type": "markdown",
   "metadata": {},
   "source": [
    "### Strings sind Reihen"
   ]
  },
  {
   "cell_type": "markdown",
   "metadata": {},
   "source": [
    "Da Strings eine Aneinanderreihung von Elementen (in diesem Fall Textzeichen) darstellen, können viele Funktionen mit Strings verwendet werden, die mit **Reihen** arbeiten. Dazu gehören:"
   ]
  },
  {
   "cell_type": "code",
   "execution_count": null,
   "metadata": {},
   "outputs": [],
   "source": [
    "len(s)  # gibt die Zahl der Reihenelemente zurück"
   ]
  },
  {
   "cell_type": "code",
   "execution_count": null,
   "metadata": {},
   "outputs": [],
   "source": [
    "s[0]  # gibt das Element der Reihe an der Stelle 0 zurück"
   ]
  },
  {
   "cell_type": "code",
   "execution_count": null,
   "metadata": {},
   "outputs": [],
   "source": [
    "s + \"!\"  # Reihen können kombiniert werden"
   ]
  },
  {
   "cell_type": "markdown",
   "metadata": {},
   "source": [
    "Wir werden weiter unten bei den [Listen](#-Listen-und-Tupel) noch mehr über Reihen erfahren."
   ]
  },
  {
   "cell_type": "markdown",
   "metadata": {},
   "source": [
    "### Strings sind Objekte"
   ]
  },
  {
   "cell_type": "markdown",
   "metadata": {},
   "source": [
    "Die meisten \"Dinge\" in Python sind **Objekte**, d.h. neben ihrem Typ besitzen sie assoziierte **Attribute** und **Methoden**, auf die über einen Punkt `.` zugegriffen werden kann.\n",
    "Neben Strings sind bspw. auch Werte der anderen schon bekannten Datentypen wie `int(5)` und sogar Funktionen und die Datentypen selbst Objekte.\n",
    "\n",
    "Objekte sind die zentralen Bestandteile des _objektorientierten Programmieren_ (kurz OOP).\n",
    "Eine andere Art, Programme zu designen, ist das _funktionale Programmieren_.\n",
    "Was Funktionen genau sind, werden wir später noch diskutieren (aber ein paar kennst du schon: z.B. `type()`, `print()` oder `len()`).\n",
    "\n",
    "Über OOP allein könnte man wahrscheinlich etliche DSA-Kurse abhalten, daher behandeln wir sie hier nur ganz kurz.\n",
    "Im Wesentlichen ist ein Objekt eine Art Variable, die ihrerseits aus \"versteckten\" Variablen zusammengesetzt ist.\n",
    "Diese \"versteckten\" Variablen nennen wir _Attribute_.\n",
    "_Methoden_ wiederum sind Befehle, die etwas mit einem Objekt machen können, d.h. sie können auf die Attribute zugreifen, diese auslesen, sie verändern und mit ihnen rechnen.\n",
    "Die Syntax für Methoden ist: `object.method()`, d.h. die Methode wirkt auf das Objekt vor dem Punkt.\n",
    "\n",
    "Eine _Klasse_ wiederum fasst alle Objekte einer bestimmten Sorte zusammen und definiert damit, welche Attribute ein Objekt hat und welche Methoden darauf angewendet werden können.\n",
    "\n",
    "Alles klar so weit?\n",
    "Ok, das war ein bisschen viel auf einmal! Deshalb ein anschauliches Beispiel:\n",
    "\n",
    "Nehmen wir die Klasse `Hund`.\n",
    "Ein Hund könnte z.B. die Attribute `name`, `fellfarbe` und `x`- und `y` Koordinaten (Hunde rennen ja bekanntermaßen viel, und daher ist es ganz praktisch zu wissen, wo sie sind...) haben. Eine mögliche Methode wäre z.b. `.lauf()`.\n",
    "\n",
    "In Python könnte das dann so aussehen (**Hinweis:** Da wir keine echte Hundeklasse implementiert haben, funktioniert die unsere Zelle natürlich nicht!)"
   ]
  },
  {
   "cell_type": "code",
   "execution_count": null,
   "metadata": {},
   "outputs": [],
   "source": [
    "lumpi = Hund(\n",
    "    name=\"Lumpi\", fellfarbe=\"schwarz\", x=3.2, y=4.5\n",
    ")  # Initialisiere den Hund lumpi\n",
    "# lumpi ist jetzt ein Objekt der Klasse Hund\n",
    "print(lumpi.fellfarbe)  # 'schwarz'\n",
    "lumpi.lauf(4.7, 2.1)\n",
    "print(lumpi.x, lumpi.y)  # '7.9, 6.6'"
   ]
  },
  {
   "cell_type": "markdown",
   "metadata": {},
   "source": [
    "Im Moment müsst ihr noch nicht genau verstehen, wie Objekte im Python funktionieren. \n",
    "Es ist nur ganz hilfreich zu wissen, _dass_ es Objekte in Python gibt, und wie wir Methoden darauf anwenden können.\n",
    "\n",
    "---\n",
    "Wie schon gesagt: \n",
    "Strings sind Objekte und haben damit interne Attribute und Methoden. \n",
    "Einige nützliche Methoden sind z.B."
   ]
  },
  {
   "cell_type": "code",
   "execution_count": null,
   "metadata": {},
   "outputs": [],
   "source": [
    "s.upper()"
   ]
  },
  {
   "cell_type": "code",
   "execution_count": null,
   "metadata": {},
   "outputs": [],
   "source": [
    "s.split()"
   ]
  },
  {
   "cell_type": "code",
   "execution_count": null,
   "metadata": {},
   "outputs": [],
   "source": [
    "s.index(\"World\")"
   ]
  },
  {
   "cell_type": "markdown",
   "metadata": {},
   "source": [
    "> **Hinweis:** In Jupyter Notebooks können wir die **`<TAB>`-Vervollständigung** verwenden um die assoziierten Attribute und Methoden eines Objekts zu inspizieren:\n",
    ">\n",
    "> ```python\n",
    "> s = \"Hello World\"\n",
    "> # Zelle ausführen, dann:\n",
    "> s.<TAB> # `s.` tippen und die <TAB>-Taste drücken\n",
    "> ```\n",
    ">\n",
    "> Dies zeigt die verfügbaren Attribute und Methoden des Strings `s` an. Die `<TAB>`-Vervollständigung für eine Variable funktioniert erst nachdem die Variable erstellt wurde, also die Zelle einmal ausgeführt wurde.\n",
    ">\n",
    "> Um herauszufinden, was eine Funktion oder Methode tut, könnt ihr im Jupyter Notebook ein Fragezeichen `?` verwenden:\n",
    ">\n",
    ">```python\n",
    ">In [1]: s.split?\n",
    ">```\n",
    ">```markdown\n",
    ">Docstring:\n",
    ">S.split(sep=None, maxsplit=-1) -> list of strings\n",
    ">\n",
    ">Return a list of the words in S, using sep as the\n",
    ">delimiter string.  If maxsplit is given, at most maxsplit\n",
    ">splits are done. If sep is not specified or is None, any\n",
    ">whitespace string is a separator and empty strings are\n",
    ">removed from the result.\n",
    ">Type:      builtin_function_or_method\n",
    ">```\n",
    ">\n",
    "> Schreibt ihr stattdessen zwei Fragezeichen `??` zeigt das Jupyter Notebook die gesamte Definition der Funktion oder Methode an.\n",
    ">\n",
    "> **Verwendet die `<TAB>`-Vervollständigung und die `?`-Dokumentation häufig um hilfreiche Attribute und Methoden zu finden und zu verstehen!**"
   ]
  },
  {
   "cell_type": "markdown",
   "metadata": {},
   "source": [
    "### Aufgabe 2 - Strings und Dokumentation\n",
    "\n",
    "Finde im folgenden String mithilfe einer Methode, wie häufig der Buchstabe `\"A\"` auftaucht und weise den Wert einer Variable `n` zu. Probiere die `<TAB>`-Vervollständigung und die `?`-Dokumentation aus um eine passende Methode zu finden."
   ]
  },
  {
   "cell_type": "code",
   "execution_count": null,
   "metadata": {
    "nbgrader": {
     "grade": false,
     "grade_id": "101-2-sol",
     "locked": false,
     "schema_version": 1,
     "solution": true
    }
   },
   "outputs": [],
   "source": [
    "s = \"CAGTACCAAGTGAAAGAT\"\n",
    "### BEGIN SOLUTION\n",
    "n =  # tippe s. und dann <TAB>, um nach einer passenden Methode zu suchen  # noqa\n",
    "### END SOLUTION\n",
    "print(n)"
   ]
  },
  {
   "cell_type": "code",
   "execution_count": null,
   "metadata": {
    "nbgrader": {
     "grade": true,
     "grade_id": "101-2-test",
     "locked": true,
     "points": 1,
     "schema_version": 1,
     "solution": false
    }
   },
   "outputs": [],
   "source": [
    "try:\n",
    "    y\n",
    "except NameError:\n",
    "    raise NameError(\n",
    "        \"Es gibt keine Variable 'n'. Weise den Wert einer Variablen mit diesem Namen zu.\"\n",
    "    )\n",
    "assert (\n",
    "    n == 8\n",
    "), \"Das ist nicht die richtige Anzahl. Versuch's mal mit der `count` Methode!\"\n",
    "print(\"Klappt!\")"
   ]
  },
  {
   "cell_type": "markdown",
   "metadata": {},
   "source": [
    "### String-Formatierung\n",
    "\n",
    "Eine wichtige Methode ist `str.format()`, die markierte Platzhalter im String mit Werten ersetzt, die der Methode übergeben werden:"
   ]
  },
  {
   "cell_type": "code",
   "execution_count": null,
   "metadata": {},
   "outputs": [],
   "source": [
    "x = 10\n",
    "y = 3.1415\n",
    "print(\"Der Wert von x ist {} und Pi ist ungefähr {}\".format(x, y))\n",
    "\n",
    "name1 = \"Anna\"\n",
    "name2 = \"Bob\"\n",
    "print(\"Hallo {} und {}!\".format(name1, name2))"
   ]
  },
  {
   "cell_type": "markdown",
   "metadata": {},
   "source": [
    "> **Hinweis:** Außerdem kann man Zahlen formatieren. Wie das funktioniert, siehst Du in der offiziellen [Python-Dokumentation]() oder [hier](https://pyformat.info/).\n",
    "\n",
    "> **Noch ein Hinweis:** Seit Python 3.6 gibt es noch eine Variante, die viel besser lesbar ist: \n",
    "Die sogenannten [\"f-strings\"](https://docs.python.org/3/reference/lexical_analysis.html#f-strings). \n",
    "Wie sie im Vergleich zu `.format()` funktioniert, wird in diesem [Tutorial auf realpython.com](https://realpython.com/python-string-formatting/#3-string-interpolation-f-strings-python-36) erklärt."
   ]
  },
  {
   "cell_type": "markdown",
   "metadata": {},
   "source": [
    "### Aufgabe 3 - String Formatierung\n",
    "\n",
    "Schreibe deinen Namen in die Variable `name`. Verwende `.format()` um aus `s` und `name` den Gruß `\"Hello World, mein Name ist __DEIN_NAME__!\"` zusammenzusetzen. Weise den zusammengesetzten String der Variable `greeting` zu."
   ]
  },
  {
   "cell_type": "code",
   "execution_count": null,
   "metadata": {
    "nbgrader": {
     "grade": false,
     "grade_id": "101-3-sol",
     "locked": false,
     "schema_version": 1,
     "solution": true
    }
   },
   "outputs": [],
   "source": [
    "s = \"Hello World\"\n",
    "name = \"__DEIN_NAME__\"\n",
    "### BEGIN SOLUTION\n",
    "greeting = s +  # schreibe hier einen f-string\n",
    "### END SOLUTION\n",
    "print(greeting)"
   ]
  },
  {
   "cell_type": "code",
   "execution_count": null,
   "metadata": {
    "nbgrader": {
     "grade": true,
     "grade_id": "101-3-test",
     "locked": true,
     "points": 1,
     "schema_version": 1,
     "solution": false
    }
   },
   "outputs": [],
   "source": [
    "try:\n",
    "    greeting\n",
    "except NameError:\n",
    "    raise NameError(\n",
    "        \"Es gibt keine Variable 'greeting'. Weise den Wert einer Variablen mit diesem Namen zu.\"\n",
    "    )\n",
    "assert \"mein Name ist\" in greeting\n",
    "print(\"Hello {}! 👋\".format(name))"
   ]
  },
  {
   "cell_type": "markdown",
   "metadata": {},
   "source": [
    "## Listen und Tupel\n",
    "\n",
    "Während Strings einzelne Zeichen aneinanderreihen, repräsentieren **Listen** und **Tupel** eine Reihe _beliebiger_ Werte. \n",
    "Die Elemente einer Liste können verändert werden, während ein Tupel unveränderlich ist. \n",
    "Wir können Listen erstellen, indem wir die Elemente durch Kommata getrennt in eckigen Klammern `[` und `]` angeben, und Tupel durch die Verwendung runder Klammern `(` und `)`:"
   ]
  },
  {
   "cell_type": "code",
   "execution_count": null,
   "metadata": {},
   "outputs": [],
   "source": [
    "l = [4, 0.5, \"Alice\"]\n",
    "l"
   ]
  },
  {
   "cell_type": "code",
   "execution_count": null,
   "metadata": {},
   "outputs": [],
   "source": [
    "t = (\"Bob\", True)\n",
    "t"
   ]
  },
  {
   "cell_type": "markdown",
   "metadata": {},
   "source": [
    "### Auch Listen und Tupel sind Reihen\n",
    "\n",
    "Wie bei jeder Reihe können wir die Anzahl der Elemente bestimmen und auf einzelne Elemente über ihren Index zugreifen:"
   ]
  },
  {
   "cell_type": "code",
   "execution_count": null,
   "metadata": {},
   "outputs": [],
   "source": [
    "len(l), len(t)"
   ]
  },
  {
   "cell_type": "code",
   "execution_count": null,
   "metadata": {},
   "outputs": [],
   "source": [
    "l[0]  # Indexierung beginnt in Python mit dem Index 0"
   ]
  },
  {
   "cell_type": "code",
   "execution_count": null,
   "metadata": {},
   "outputs": [],
   "source": [
    "l[1]"
   ]
  },
  {
   "cell_type": "code",
   "execution_count": null,
   "metadata": {},
   "outputs": [],
   "source": [
    "l[2]"
   ]
  },
  {
   "cell_type": "code",
   "execution_count": null,
   "metadata": {},
   "outputs": [],
   "source": [
    "t[0]"
   ]
  },
  {
   "cell_type": "code",
   "execution_count": null,
   "metadata": {},
   "outputs": [],
   "source": [
    "t[1]"
   ]
  },
  {
   "cell_type": "markdown",
   "metadata": {},
   "source": [
    "### Listen sind veränderlich"
   ]
  },
  {
   "cell_type": "markdown",
   "metadata": {},
   "source": [
    "Anders als Strings und Tupel können Listen jedoch verändert werden, indem Elemente verändert, hinzugefügt oder entfernt werden:"
   ]
  },
  {
   "cell_type": "code",
   "execution_count": null,
   "metadata": {},
   "outputs": [],
   "source": [
    "l[1] = -2.2  # Weise der Liste einen neuen Wert beim Index 1 zu\n",
    "l"
   ]
  },
  {
   "cell_type": "code",
   "execution_count": null,
   "metadata": {},
   "outputs": [],
   "source": [
    "l.append(-3)  # Füge einen neuen Wert am Ende der liste hinzu\n",
    "l"
   ]
  },
  {
   "cell_type": "code",
   "execution_count": null,
   "metadata": {},
   "outputs": [],
   "source": [
    "l.pop()  # Entfernt das letzte Element (bzw. das am angegebenen Index) aus der Liste und gibt es zurück\n",
    "l"
   ]
  },
  {
   "cell_type": "markdown",
   "metadata": {},
   "source": [
    "## Slicing\n",
    "\n",
    "Du kannst mit der _Slicing_ Syntax auf Teile einer Reihe zugreifen:\n",
    "\n",
    "```python\n",
    "slice = list[start:stop:step]\n",
    "```\n",
    "\n",
    "Dabei bezeichnet `start` den ersten Index und `stop` den letzten nicht mehr enthaltenen Index des Abschnitts. Mit `step` kannst du eine Schrittweite angeben, in der die Reihe iteriert werden soll.\n",
    "\n",
    "Du musst nicht alle drei Argumente angeben. Per default ist dann `start=0`, `stop=len(list)` und `step=1`:"
   ]
  },
  {
   "cell_type": "code",
   "execution_count": null,
   "metadata": {},
   "outputs": [],
   "source": [
    "l[:2]  # Der erste Index ist per default start=0"
   ]
  },
  {
   "cell_type": "code",
   "execution_count": null,
   "metadata": {},
   "outputs": [],
   "source": [
    "l[2:]  # Der letzte Index ist per default das Ende der Reihe"
   ]
  },
  {
   "cell_type": "code",
   "execution_count": null,
   "metadata": {},
   "outputs": [],
   "source": [
    "l[::2]  # Jedes zweite Element"
   ]
  },
  {
   "cell_type": "code",
   "execution_count": null,
   "metadata": {},
   "outputs": [],
   "source": [
    "l[::-1]  # Umgekehrte Reihenfolge"
   ]
  },
  {
   "cell_type": "markdown",
   "metadata": {},
   "source": [
    "> **Hinweis:** Slicing ist ein mächtiges Werkzeug um kurzen, prägnanten Code zu schreiben und wird dir bei der Arbeit mit _Numpy Arrays_ ab Lektion [201 - Numerik mit Numpy](201 - Numerik mit Numpy.ipynb) noch sehr häufig begegnen. TODO: evtl. Link anpassen!"
   ]
  },
  {
   "cell_type": "markdown",
   "metadata": {},
   "source": [
    "## Dictionaries\n",
    "\n",
    "Ein weiterer wichtiger Datentyp ist das **Dictionary**. Ein Dictionary ordnet jeweils einem _Key_ einen _Value_ zu und wird durch geschweifte Klammern `{` und `}` erstellt:"
   ]
  },
  {
   "cell_type": "code",
   "execution_count": null,
   "metadata": {},
   "outputs": [],
   "source": [
    "d = {\"a\": 1, \"b\": 2, \"c\": 3}\n",
    "d"
   ]
  },
  {
   "cell_type": "markdown",
   "metadata": {},
   "source": [
    "Auf einzelne Werte kann über ihren Key zugegriffen werden:"
   ]
  },
  {
   "cell_type": "code",
   "execution_count": null,
   "metadata": {},
   "outputs": [],
   "source": [
    "d[\"a\"]"
   ]
  },
  {
   "cell_type": "markdown",
   "metadata": {},
   "source": [
    "Dictionaries sind veränderlich wie Listen:"
   ]
  },
  {
   "cell_type": "code",
   "execution_count": null,
   "metadata": {},
   "outputs": [],
   "source": [
    "d[\"d\"] = 4\n",
    "d"
   ]
  },
  {
   "cell_type": "markdown",
   "metadata": {},
   "source": [
    "Es müssen nicht unbedingt Strings als Keys verwendet werden, und auch verschiedene Datentypen sind möglich:"
   ]
  },
  {
   "cell_type": "code",
   "execution_count": null,
   "metadata": {},
   "outputs": [],
   "source": [
    "e = {\"some_key\": 4.2, 3517: \"some_value\"}\n",
    "e"
   ]
  },
  {
   "cell_type": "code",
   "execution_count": null,
   "metadata": {},
   "outputs": [],
   "source": [
    "e[\"some_key\"]"
   ]
  },
  {
   "cell_type": "code",
   "execution_count": null,
   "metadata": {},
   "outputs": [],
   "source": [
    "e[3517]"
   ]
  },
  {
   "cell_type": "markdown",
   "metadata": {},
   "source": [
    "Nützliche Methoden für dictionaries:"
   ]
  },
  {
   "cell_type": "code",
   "execution_count": null,
   "metadata": {},
   "outputs": [],
   "source": [
    "d.keys()  # gibt alle keys zurück"
   ]
  },
  {
   "cell_type": "code",
   "execution_count": null,
   "metadata": {},
   "outputs": [],
   "source": [
    "d.values()  # gibt alle items zurück"
   ]
  },
  {
   "cell_type": "code",
   "execution_count": null,
   "metadata": {},
   "outputs": [],
   "source": [
    "d.items()  # gibt alle key-value-Paare als Tupels zurück"
   ]
  },
  {
   "cell_type": "code",
   "execution_count": null,
   "metadata": {},
   "outputs": [],
   "source": [
    "len(d)  # auch Dictionaries haben eine Länge!"
   ]
  },
  {
   "cell_type": "markdown",
   "metadata": {},
   "source": [
    "## Aufgabe 4 - Dictionaries\n",
    "\n",
    "Schreibe ein Wörterbuch mit einigen deutschen Wörtern und ihrer Übersetzung ins Englische. Weise es der Variable `d` zu und verwende es dann, indem du dir einige Werte darin ausgeben lässt."
   ]
  },
  {
   "cell_type": "code",
   "execution_count": null,
   "metadata": {
    "nbgrader": {
     "grade": false,
     "grade_id": "101-4-sol",
     "locked": false,
     "schema_version": 1,
     "solution": true
    }
   },
   "outputs": [],
   "source": [
    "### BEGIN SOLUTION\n",
    "d = {\"Wörterbuch\": \"dictionary\"}\n",
    "### END SOLUTION\n",
    "d[\"Wörterbuch\"]"
   ]
  },
  {
   "cell_type": "code",
   "execution_count": null,
   "metadata": {
    "nbgrader": {
     "grade": true,
     "grade_id": "101-4-test",
     "locked": true,
     "points": 1,
     "schema_version": 1,
     "solution": false
    }
   },
   "outputs": [],
   "source": [
    "try:\n",
    "    d\n",
    "except NameError:\n",
    "    raise NameError(\n",
    "        \"Es gibt keine Variable 'd'. Weise den Wert einer Variablen mit diesem Namen zu.\"\n",
    "    )\n",
    "assert len(d) > 1, \"Das Wörterbuch hat zu wenig Einträge.\"\n",
    "print(\"Wow, {} Einträge im Wörterbuch!\".format(len(d)))"
   ]
  },
  {
   "cell_type": "markdown",
   "metadata": {},
   "source": [
    "---\n",
    "\n",
    "Du kannst nun mit Variablen und Datentypen umgehen und den Python Interpreter rechnen lassen. \n",
    "Lerne in der nächsten Lektion, wie du mit _Control Flow_ Anweisungen deine ersten Programme schreiben kannst.\n",
    "\n",
    "> **Tipp**: Erstelle als kleine Übung dein eigenes \"Python-Cheatsheat\", in dem du die wichtigsten Python-Befehle für dich zusammenfasst. \n",
    "Es gibt zwar bestimmt schon hunderte Cheatcheats fertig im Internet zum Herunterladen. \n",
    "Aber du lernst viel mehr dabei, wenn du dir selber eins erstellst! Und du kannst es dann in den nächsten Lektionen noch weiter ausbauen! :)\n",
    "\n",
    "[Startseite](index.ipynb) | [**>> 102 - Control Flow**](102_Controlflow.ipynb)"
   ]
  }
 ],
 "metadata": {
  "kernelspec": {
   "display_name": "Python 3",
   "language": "python",
   "name": "python3"
  },
  "language_info": {
   "codemirror_mode": {
    "name": "ipython",
    "version": 3
   },
   "file_extension": ".py",
   "mimetype": "text/x-python",
   "name": "python",
   "nbconvert_exporter": "python",
   "pygments_lexer": "ipython3",
   "version": "3.6.9"
  }
 },
 "nbformat": 4,
 "nbformat_minor": 4
}
