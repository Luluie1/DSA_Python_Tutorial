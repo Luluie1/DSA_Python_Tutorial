{
 "cells": [
  {
   "cell_type": "markdown",
   "metadata": {},
   "source": [
    "Kurs 5.3 \"Vom Gehirn Lernen\" -- Python-Tutorial | [Startseite](index.ipynb)\n",
    "\n",
    "---"
   ]
  },
  {
   "cell_type": "markdown",
   "metadata": {},
   "source": [
    "# Wenn du Python selber auf deinem eigenen Rechner installieren möchtest...\n",
    "\n",
    "Programmiercode ist nur Text. \n",
    "Wir speichern reinen Python Code in `.py` Dateien, doch für wissenschaftliche Anwendungen sind solche Skripte häufig nicht anschaulich genug. \n",
    "Stattdessen verwenden wir [_Jupyter Notebooks_](http://jupyter.org), in denen wir nicht nur Code ausführen, sondern auch Text, $\\LaTeX$-Gleichungen, Bilder und mehr hinzufügen können. \n",
    "In diesem Kurs wirst du den Umgang mit Notebooks noch kennenlernen, schließlich sind diese Kursmaterialien selbst Jupyter Notebooks!\n",
    "\n",
    "Das Jupyter Notebook muss dabei immer auf einen _Kernel_ zurückgreifen können, also eine Python Installation auf dem System.\n",
    "Standardmäßig könntet ihr diesen Kurs auf [lab.ebrains.eu](https://lab.ebrains.eu/) ausführen, wo Python, ein Jupyterserver und alle benötigten Packages schon installiert sind. \n",
    "\n",
    "Es wäre für den Kurs aber gut, wenn ihr eine eigene Python-Umgebung selber auf eurem PC installiert. Im Folgenden erklären wir dir, wie das geht."
   ]
  },
  {
   "cell_type": "markdown",
   "metadata": {},
   "source": [
    "## Python installieren\n",
    "\n",
    "Abhängig vom Betriebssystem gibt es verschiedene Möglichkeiten, Python zu installieren.\n",
    "\n",
    "### 1. Linux\n",
    "\n",
    "Die meisten populären Linux-Distributionen (z.B. Ubuntu/Debian,...) haben schon eine vorinstallierte Python-Version. Um die Python-Installation zu verifizieren, öffne ein Terminal und gebe `python --version` ein. Wenn dir eine halbwegs aktuelle Version (sagen wir mal > 3.6) angezeigt wird, kannst du eigentlich schon loslegen. Für diesen Kurs musst du allerdings noch ein paar zusätzliche Packages (=\"Erweiterungen\") installieren (siehe _Diesen Kurs herunterladen und ausführen_).\n",
    "\n",
    "### 2. Alles andere (und evtl auch Linux...)\n",
    "\n",
    "Für alle anderen Fälle empfehlen wir dir, die [Anaconda-Distribution](https://www.anaconda.com/) zu installieren. Das ist sozusagen ein großes Paket, das nicht nur Python selber enthält, sondern auch ganz viele sehr nützliche \"Erweiterungen\" (oder in Python-Speak: Packages). Damit hast du mit einer einzigen Installation alles, was du brauchst abgedeckt!\n",
    "Anaconda kann auch für Linux-Benutzer:innen interessant sein, die mit einer einzigen Installation alles Wichtige installieren wollen. (Kleiner Hinweis: Anaconda kann von sich aus mit eventuell vorhandenen Python-Installationen und `pip`-Packages umgehen!)\n",
    "\n",
    "### 2.1 Anaconda\n",
    "\n",
    "Um Anaconda zu installieren, führe bitte folgende Schritte aus:\n",
    "\n",
    "1. Installiert [Anaconda](https://www.continuum.io/downloads).\n",
    "2. Öffnet den [Anaconda Navigator](https://docs.continuum.io/anaconda/navigator/) und startet die _Jupyter Lab_ App.\n",
    "3. Im Browserfenster könnt ihr nun durch euer Dateisystem navigieren, Jupyter Notebooks erstellen und darin Python Code ausführen.\n",
    "\n",
    "\n",
    "### 2.2 Miniconda\n",
    "\n",
    "Anaconda wird eine gigantische Menge an Packages installieren (insgesamt einige GB). Wenn du nicht soo viel Speicherplatz hast und ein bisschen Erfahrung mit der Kommandozeile mitbringst, kannst du auch [Miniconda](https://docs.conda.io/en/latest/miniconda.html) installieren. Das ist sozusagen eine abgespeckte Version von Anaconda, die nur die allerwichtigsten Packages enthält. Falls du für Anaconda nicht genug Platz hast, aber trotzdem Python installieren willst, melde dich gerne bei uns!"
   ]
  },
  {
   "cell_type": "markdown",
   "metadata": {},
   "source": [
    "## Diesen Kurs herunterladen und ausführen\n",
    "\n",
    "### 1. Kursmaterialien herunterladen\n",
    "\n",
    "Möchtest du den Kurs offline (d.h. lokal auf deinem Rechner) auch durchführen, kannst du die Notebooks einfach herunterladen. Dafür gibt es verschiedene Möglichkeiten:\n",
    "\n",
    "1. Git: Wenn du weißt, was [`git`](https://de.wikipedia.org/wiki/Git) ist und/oder schon Erfahrung mit dem Terminal hast, kannst du unser Repo einfach clonen:\n",
    "```bash\n",
    "git clone https://github.com/timomit/dsa-python-course.git\n",
    "```\n",
    "2. Normaler Download: Wenn du mit Punkt 1 nichts anfangen kannst, dann mache Folgendes:\n",
    "  - Gehe auf [https://github.com/timomit/dsa-python-course/](https://github.com/timomit/dsa-python-course/)\n",
    "  - Klicke auf den grünen Button, auf dem \"Code\" steht\n",
    "  - Wähle im Dropdown-Menü \"Download zip\" aus.\n",
    "  - Speichere den zip-Ordner auf deinem Rechner und entpacke ihn. Fertig!\n",
    "  \n",
    "### 2. Kursmaterialien ausführen.\n",
    "\n",
    "Wenn du Python mit Anaconda installiert hast, kannst du direkt mit diesem Kurs loslegen. Starte die Jupyter Lab App, navigiere in das Kursverzeichnis und öffnet das [`index.ipynb`](index.ipynb) Notebook. Dies ist die Startseite dieses Kurses.\n",
    "\n",
    "> Wenn Du nicht die Anaconda Distribution verwendest, stelle sicher, dass Du die benötigten Packages für diesen Kurs installiert hast. Sie sind in der `requirements.txt` Datei aufgelistet und ihr könnt sie einfach mit `pip` installieren:\n",
    ">\n",
    "> ```bash\n",
    "> pip install -r requirements.txt\n",
    "> ```"
   ]
  },
  {
   "cell_type": "markdown",
   "metadata": {},
   "source": [
    "## Python Code in der Shell und in Skripten ausführen\n",
    "\n",
    "Du habst eine funktionsfähige Python Installation, wenn Du in der Kommandozeile den Befehl `python --version` ausführst und eine Versionsnummer erhältst. Nun hast Du neben Jupyter Notebooks viele weitere Möglichkeiten, Python Code auszuführen:\n",
    "\n",
    "Um eure Python Installation zu testen, kannst Du die _Python Shell_ öffnen, indem ihr in der Kommandozeile einfach `python` ausführt. Hier kannst Du Python Code schreiben und direkt ausführen. Versucht's mal mit `print(\"Hello World!\")`. In der Shell kannst Du testen, ob Packages wie `numpy`, `matplotlib` und `scipy` installiert sind, indem Du sie mit `import` versuchst zu importieren. Du verlässt die Shell mit `exit()`.\n",
    "\n",
    "Natürlich eignet sich die Shell nicht für ernsthaftes Programmieren. Für Skripte oder größere Programme, die Aufgaben ausführen sollen, schreiben wir den Code daher in `.py` Textdateien. Ein guter Texteditor wie [Microsoft's Visual Studio Code](https://code.visualstudio.com/), oder die sehr mächtigen Klassiker[Emacs](https://www.gnu.org/software/emacs/) bzw. [Vim](https://www.vim.org/) oder sogar eine vollwertige Entwicklungsumgebung wie [PyCharm](https://www.jetbrains.com/pycharm/) oder [Spyder](https://pythonhosted.org/spyder/) ist dabei essenziell.\n",
    "Es hilft den Überblick zu bewahren, Bugs zu finden und bei vielem mehr. Für größere Projekte, wie die in unserem Kurs, wäre es also gut, wenn ihre euch für eine richtige Entwicklungsumgebung enscheiden würdet und diese installiert. Am besten verwendet ihr sie dann auch schon im Tutorial für die Code Bausteine.\n",
    "Wir empfehlen euch dabei die Umgebung [VSCode](https://code.visualstudio.com/Download). Einfach auf der Website runterladen, ausführen und installieren.\n",
    "Entwicklungsumgebungen können auf den ersten Blick etwas überfordernd sein, da man sich noch nicht zurechtfindet. Viele YouTube Videos helfen, um das erste Python Projekt mit der ersten .py Datei in der gewählten Umgebung anzulegen und auszuführen. Sucht z.B. nach 'hello world vscode python' und arbeitet euch dort durch. Komplizierteres Wissen über die Entwicklungsumgebungen ist für das Tutorial etstmal nicht nötig.\n",
    "Falls ihr VSCode nicht leiden könnt, sind auch [PyCharm Community Edition](https://www.jetbrains.com/de-de/pycharm/download/) und [Eclipse](https://www.eclipse.org/downloads/packages/installer) gute Alternativen. Schaut einfach, was euch am ehesten anspricht.\n",
    "\n",
    "Mit oder ohne Anleitungsvideo: Erstellt eine Datei `helloworld.py` mit dem Inhalt `print(\"Hello World!\")`. Nun könnt ihr das Skript in der Entwicklungsumgebung oder auch der Kommandozeile ausführen. Mit der Kommandozeile wäre der Befehl wie folgt:\n",
    "\n",
    "    python path/to/helloworld.py"
   ]
  },
  {
   "cell_type": "markdown",
   "metadata": {},
   "source": [
    "---\n",
    "[Startseite](index.ipynb) | [**>> 101 - Grundlagen der Programmierung in Python**](101_Pythonvariablen.ipynb)"
   ]
  }
 ],
 "metadata": {
  "kernelspec": {
   "display_name": "Python 3",
   "language": "python",
   "name": "python3"
  },
  "language_info": {
   "codemirror_mode": {
    "name": "ipython",
    "version": 3
   },
   "file_extension": ".py",
   "mimetype": "text/x-python",
   "name": "python",
   "nbconvert_exporter": "python",
   "pygments_lexer": "ipython3",
   "version": "3.6.9"
  }
 },
 "nbformat": 4,
 "nbformat_minor": 4
}
