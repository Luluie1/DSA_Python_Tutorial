{
 "cells": [
  {
   "cell_type": "markdown",
   "metadata": {},
   "source": [
    "Kurs 5.3 \"Vom Gehirn Lernen\" -- Python-Tutorial  | [Startseite](index.ipynb)\n",
    "\n",
    "---"
   ]
  },
  {
   "cell_type": "markdown",
   "metadata": {},
   "source": [
    "# 102 - Control Flow"
   ]
  },
  {
   "cell_type": "markdown",
   "metadata": {},
   "source": [
    "- [`if`-Abfragen](#if-Abfragen)\n",
    "- [Aufgabe 1 - Raumtemperatur](#Aufgabe-1---Raumtemperatur)\n",
    "- [`for`-Schleifen](#for-Schleifen)\n",
    "- [Aufgabe 2 - Primzahlen](#Aufgabe-2---Primzahlen)\n",
    "- [`while`-Schleifen](#while-Schleifen)\n",
    "- [Aufgabe 3 - Fibonacci](#Aufgabe-3---Fibonacci)\n",
    "- [Aufgabe 4-7 - Flowchart](#Aufgabe-4---Flowchart)"
   ]
  },
  {
   "cell_type": "markdown",
   "metadata": {},
   "source": [
    "Wir können Variablen nun Werte verschiedener Typen zuweisen:"
   ]
  },
  {
   "cell_type": "code",
   "execution_count": null,
   "metadata": {},
   "outputs": [],
   "source": [
    "a = 1\n",
    "b = 3.14\n",
    "c = \"hello\"\n",
    "d = [a, b, c]"
   ]
  },
  {
   "cell_type": "markdown",
   "metadata": {},
   "source": [
    "Doch um ein sinnvolles Programm zu schreiben benötigen wir sog. _Control Flow_ Anweisungen, die steuern, wie sich das Programm je nach Situation zu verhalten hat. Dazu gehören vor allem `if`-Abfragen und `for`- und `while`-Schleifen."
   ]
  },
  {
   "cell_type": "markdown",
   "metadata": {},
   "source": [
    "## `if`-Abfragen\n",
    "\n",
    "Die erste Form von _control flow_ ist die `if`-Abfrage. Ein Codeblock wird nur dann ausgeführt, wenn eine Bedingung wahr ist, das heißt den `bool`-Wert `True` ergibt. Ein optionaler `else`-Codeblock kann ausgeführt werden, wenn die Bedingung _nicht_ `True` ergibt. Die Syntax für `if`-Abfragen lautet wie folgt:\n",
    "```python\n",
    "if condition:\n",
    "    # do something\n",
    "elif condition:  # optional\n",
    "    # do something else\n",
    "else:  # optional\n",
    "    # do yet something else\n",
    "```\n",
    "Beachtet, dass die Codeblöcke nicht durch Steuerzeichen begrenzt werden. Stattdessen endet die Bedingung lediglich mit einem Doppelpunkt (`:`) und der zugehörige der Codeblock ist **eingerückt**.\n",
    "\n",
    "> **Hinweis:** In Python werden Codeblöcke durch Doppelpunkte und Einrückungen begrenzt. Per Konvention werden dazu jeweils vier Leerzeichen pro Einrückungslevel verwendet."
   ]
  },
  {
   "cell_type": "markdown",
   "metadata": {},
   "source": [
    "Verändere bspw. im folgenden Code den Wert von `a` und schaue, wie sich der Output verändert."
   ]
  },
  {
   "cell_type": "code",
   "execution_count": null,
   "metadata": {},
   "outputs": [],
   "source": [
    "a = 1\n",
    "if a < 5:\n",
    "    print(\"a ist zu klein, setze auf 5\")\n",
    "    a = 5\n",
    "else:\n",
    "    print(\"a ist groß genug.\")\n",
    "print(\"a ist nun {}.\".format(a))"
   ]
  },
  {
   "cell_type": "markdown",
   "metadata": {},
   "source": [
    "Der erste Aufruf der `print`-Funktion und die Änderung des Werts von `a` wird nur ausgeführt, wenn der Wert von `a` kleiner als `5` ist. Ansonsten wird der `else`-Block ausgeführt. Der letzte Aufruf der `print`-Funktion wird jedoch immer ausgeführt."
   ]
  },
  {
   "cell_type": "markdown",
   "metadata": {},
   "source": [
    "### Vergleichs-Operatoren produzieren Booleans\n",
    "\n",
    "Die Bedingung der `if`-Abfrage kann alles sein, was einen `bool`-Wert zurückgibt.\n",
    "\n",
    "Werte von Datentypen, die Vergleiche unterstützen, können mit Vergleichs-Operatoren zu einem Boolean kombiniert werden:"
   ]
  },
  {
   "cell_type": "code",
   "execution_count": null,
   "metadata": {},
   "outputs": [],
   "source": [
    "1 == 3  # \"gleich\""
   ]
  },
  {
   "cell_type": "markdown",
   "metadata": {},
   "source": [
    "> **Hinweis**: Beachte den Unterscheid zwischen `=` und `==`: `=` ist ein _Zuweisungsoperator_, das heißt, er weist einer Variablen einen konkreten Wert zu. `==` ist ein _Vergleichsoperator_, d.h. er prüft, ob zwei Variablen den gleichen Wert haben und gibt dann `True` oder `False` zurück."
   ]
  },
  {
   "cell_type": "code",
   "execution_count": null,
   "metadata": {},
   "outputs": [],
   "source": [
    "1 != 3  # \"ungleich\""
   ]
  },
  {
   "cell_type": "code",
   "execution_count": null,
   "metadata": {},
   "outputs": [],
   "source": [
    "1 > 3  # \"größer\""
   ]
  },
  {
   "cell_type": "code",
   "execution_count": null,
   "metadata": {},
   "outputs": [],
   "source": [
    "3 <= 3.4  # \"kleiner oder gleich\""
   ]
  },
  {
   "cell_type": "markdown",
   "metadata": {},
   "source": [
    "> Die einfachsten Bedingungen sind die expliziten `bool`-Werte `True` und `False`. Beachte, dass `True` und `False` in Python mit großem Anfangsbuchstaben geschrieben werden.\n",
    "> **Hinweis:** Manche dieser Operatoren lassen sich auch auf Felder anwenden (also z.b. Listen oder Strings). Probier es doch mal selber aus!"
   ]
  },
  {
   "cell_type": "code",
   "execution_count": null,
   "metadata": {},
   "outputs": [],
   "source": [
    "# Probiere zwei gleiche oder ungleiche Strings und schaue was passiert, wenn du == oder != anwendest!"
   ]
  },
  {
   "cell_type": "markdown",
   "metadata": {},
   "source": [
    "### Logische Operatoren kombinieren Booleans\n",
    "\n",
    "Booleans können mit den logischen Operatoren `and`, `or` und `not` kombiniert werden:"
   ]
  },
  {
   "cell_type": "code",
   "execution_count": null,
   "metadata": {},
   "outputs": [],
   "source": [
    "True and False"
   ]
  },
  {
   "cell_type": "code",
   "execution_count": null,
   "metadata": {},
   "outputs": [],
   "source": [
    "True or False"
   ]
  },
  {
   "cell_type": "code",
   "execution_count": null,
   "metadata": {},
   "outputs": [],
   "source": [
    "not True"
   ]
  },
  {
   "cell_type": "code",
   "execution_count": null,
   "metadata": {},
   "outputs": [],
   "source": [
    "(False and (True or False)) or (False and True)"
   ]
  },
  {
   "cell_type": "markdown",
   "metadata": {},
   "source": [
    "## Aufgabe 1 - Raumtemperatur\n",
    "\n",
    "a) Schreibe eine `if`-Abfrage, die die Temperatur `T` mit der Raumtemperatur `T_Raum` vergleicht und mit `print` ausgibt, ob die Temperatur zu warm, zu kalt oder genau bei Raumtemperatur ist.\n",
    "\n",
    "b) Setze den Boolean-Wert der Variable `heating` auf `True`, wenn die Temperatur unter der Raumtemperatur liegt, und andernfalls auf `False`. Du kannst dies entweder explizit in die `if`-Abfrage integrieren oder separat durch einen Boolean-Ausdruck setzen. Gib je nach dem Wert von `heating` mit `print` aus, ob geheizt wird oder nicht.\n",
    "\n",
    "Probiere dein erstes kleines Programm aus, indem du den Wert von `T` veränderst."
   ]
  },
  {
   "cell_type": "code",
   "execution_count": null,
   "metadata": {
    "nbgrader": {
     "grade": false,
     "grade_id": "102-1-sol",
     "locked": false,
     "schema_version": 1,
     "solution": true
    }
   },
   "outputs": [],
   "source": [
    "T = 20\n",
    "T_Raum = 21\n",
    "heating = False\n",
    "### BEGIN SOLUTION\n",
    "\n",
    "### END SOLUTION"
   ]
  },
  {
   "cell_type": "code",
   "execution_count": null,
   "metadata": {
    "nbgrader": {
     "grade": true,
     "grade_id": "102-1-test",
     "locked": true,
     "points": 2,
     "schema_version": 1,
     "solution": false
    }
   },
   "outputs": [],
   "source": [
    "assert heating == (\n",
    "    T < T_Raum\n",
    "), \"Der Wert von `heating` passt nicht. Setze den Wert nur dann auf `True`, wenn `T < T_R` ist.\"\n",
    "print(\"👏 Easy.\")"
   ]
  },
  {
   "cell_type": "markdown",
   "metadata": {},
   "source": [
    "### Weitere Bool'sche Operatoren\n",
    "\n",
    "Python stellt noch einige weitere nützliche Operatoren zur Verfügung."
   ]
  },
  {
   "cell_type": "markdown",
   "metadata": {},
   "source": [
    "- Der `in` Operator prüft, ob ein Wert in einer Reihe enthalten ist:"
   ]
  },
  {
   "cell_type": "code",
   "execution_count": null,
   "metadata": {},
   "outputs": [],
   "source": [
    "3 in [1, 3, 5]"
   ]
  },
  {
   "cell_type": "markdown",
   "metadata": {},
   "source": [
    "- Der `is` Operator prüft, ob zwei Objekte _identisch_ sind, also ein und dasselbe Objekt sind."
   ]
  },
  {
   "cell_type": "code",
   "execution_count": null,
   "metadata": {},
   "outputs": [],
   "source": [
    "s = \"Hello World\"\n",
    "t = \"Hello World\"\n",
    "s == t, s is t"
   ]
  },
  {
   "cell_type": "code",
   "execution_count": null,
   "metadata": {},
   "outputs": [],
   "source": [
    "1000 == 10**3, 1000 is 10**3"
   ]
  },
  {
   "cell_type": "markdown",
   "metadata": {},
   "source": [
    "> Meistens sind wir nur an der _Gleichheit_ von Werten interessiert und verwenden den Gleichheits-Operator (`==`). Die _Identität_ von Objekten wird erst in der _Objektorientierten Programmierung_ relevant wenn wir mit _Reference_-Typen arbeiten, statt wie bisher mit _Value_-Typen.\n",
    ">\n",
    "> Ein häufiger Anwendungsfall für den Identitäts-Operator `is` ist jedoch der Vergleich mit `None`. Das Symbol `None` stellt das Nicht-Vorhandensein eines Wertes in Python dar:"
   ]
  },
  {
   "cell_type": "code",
   "execution_count": null,
   "metadata": {},
   "outputs": [],
   "source": [
    "a = None\n",
    "if a is None:\n",
    "    print(\"a hat keinen Wert!\")\n",
    "else:\n",
    "    print(\"a ist {}.\".format(a))"
   ]
  },
  {
   "cell_type": "markdown",
   "metadata": {},
   "source": [
    "> **Kleine Exkursion für Interessierte** (an dieser Stelle aber nicht super wichtig...): Stelle dir vor, du erstellst eine riesengroße Liste in Python. Zum Beispiel bist du Neurowissenschaftler:in und du speicherst fMRI-Experiment-Daten (eine spezielle Form der Hirn-Magnetresonanztomografie) in einer Pythonliste namens `mrt_1`. Dabei kommt eine gigantische Menge an Daten zusammen, nicht selten mehrere Gigabyte. Oft macht es in einem Computerprogrmam Sinn, Variablen zu kopieren (in diesem Fall in die Liste `mrt_2`), damit wir das Programm besser strukturieren können. Das würde aber bedeuten, dass für jede neue Kopie einige GB im Arbeitsspeicher hin- und hergeschoben werden müssen, was lange dauert und zusätzlichen Speicherplatz benötigt. Deshalb ist Python \"schlau\" und erzeugt nur eine neue _Referenz_ für die Variable. D.h. es gibt einen zusätzlichen Variablennamen, der aber auf die selben Seicherzellen der ursprünglichen Liste zeigt. Das bedeutet aber, dass wenn du `mrt_2` änderst, änderst sich natürlich auch `mrt_1`. Manchmal will man aber eine \"richtige\" Kopie eines Objekts erzeugen (im Programmiersprech nennen wir das _deepcopy_), d.h. der Wert einer Variablen wird tatsächlich in andere Speicherzellen kopiert. Beispielsweise sollen die orginalen Rohdaten behalten und auf einer Kopie Filter angewendet werden. Um die beiden Fälle zu unterscheiden (denn einer Variablen sieht man nicht an, ob sie eine Referenz auf eine andere Variable darstellt), braucht man den `is`-Operator.\n",
    "\n",
    "**PS:** Dieses Verhalten von Python ist nicht selten Quelle für \"wunderbare\" Bugs, die schwer zu finden sind (frag da mal deine KL... )"
   ]
  },
  {
   "cell_type": "markdown",
   "metadata": {},
   "source": [
    "## `for`-Schleifen\n"
   ]
  },
  {
   "cell_type": "markdown",
   "metadata": {},
   "source": [
    "Mit Schleifen kann ein Codeblock mehrmals ausgeführt werden. Die meistverwendete Schleife ist die `for`-Schleife mit folgender Syntax:\n",
    "\n",
    "```python\n",
    "for value in iterable:\n",
    "    # do things\n",
    "```\n",
    "\n",
    "`iterable` kann dabei eine beliebige _Reihe_ sein, also bspw. eine Liste, ein Tupel oder auch ein String:"
   ]
  },
  {
   "cell_type": "code",
   "execution_count": null,
   "metadata": {},
   "outputs": [],
   "source": [
    "for x in [3, 1.2, \"a\"]:\n",
    "    print(x)"
   ]
  },
  {
   "cell_type": "code",
   "execution_count": null,
   "metadata": {},
   "outputs": [],
   "source": [
    "for letter in \"hello\":\n",
    "    print(letter)"
   ]
  },
  {
   "cell_type": "markdown",
   "metadata": {},
   "source": [
    "### Einen Codeblock `n`-mal ausführen\n",
    "\n",
    "Manchmal soll ein Codeblock eine bestimmte Zahl von Iterationen ausgeführt werden. Dazu können wir die `range` Funktion verwenden:"
   ]
  },
  {
   "cell_type": "code",
   "execution_count": null,
   "metadata": {},
   "outputs": [],
   "source": [
    "for i in range(5):\n",
    "    print(i)"
   ]
  },
  {
   "cell_type": "markdown",
   "metadata": {},
   "source": [
    "Du kannst nachschauen, wie die `range` Funktion definiert ist und welche Optionen sie bietet, indem du die `?`-Dokumentation aufrufst. Entferne das `#`-Zeichen und führe die Zelle aus:"
   ]
  },
  {
   "cell_type": "code",
   "execution_count": null,
   "metadata": {},
   "outputs": [],
   "source": [
    "# range?"
   ]
  },
  {
   "cell_type": "markdown",
   "metadata": {},
   "source": [
    "Wir können die Funktion also auch mit den Argumenten `start`, `stop` und (optional) `step` aufrufen:\n",
    "> **Hinweis:** Wie in der Informatik üblich, fängt `range` bei null an zu zählen, wenn nur ein Wert (d.h. der Stoppwert) angegeben wird. Der Stoppwert selber wird nicht  mehr mitgezählt. `range(3)` zählt also 0, 1, 2, was insgesamt drei Iterationen ergibt. Ergibt Sinn, oder? "
   ]
  },
  {
   "cell_type": "code",
   "execution_count": null,
   "metadata": {},
   "outputs": [],
   "source": [
    "for i in range(2, 10, 2):\n",
    "    print(i)"
   ]
  },
  {
   "cell_type": "markdown",
   "metadata": {},
   "source": [
    "### Eine Schleife abbrechen oder Schritte überspringen"
   ]
  },
  {
   "cell_type": "markdown",
   "metadata": {},
   "source": [
    "- Mit dem Befehl `break` kann eine Schleife abgebrochen werden:"
   ]
  },
  {
   "cell_type": "code",
   "execution_count": null,
   "metadata": {},
   "outputs": [],
   "source": [
    "for i in range(100):\n",
    "    if i > 3:\n",
    "        break\n",
    "    print(i)"
   ]
  },
  {
   "cell_type": "markdown",
   "metadata": {},
   "source": [
    "- Mit dem Befehl `continue` wird lediglich der aktuelle Schritt der Schleife abgebrochen:"
   ]
  },
  {
   "cell_type": "code",
   "execution_count": null,
   "metadata": {},
   "outputs": [],
   "source": [
    "for i in range(3):\n",
    "    if i == 1:\n",
    "        continue\n",
    "    print(i)"
   ]
  },
  {
   "cell_type": "markdown",
   "metadata": {},
   "source": [
    "### Listen mit `for`-Schleifen erstellen\n",
    "\n",
    "Ein sehr praktisches Konzept um in Python mit Listen zu arbeiten nennt sich _list comprehension_. Mit folgender Syntax wird eine Operation auf jedes Element der gegebenen Reihe angewendet. Zurückgegeben wird dann eine Liste mit den so berechneten Elementen:\n",
    "\n",
    "```python\n",
    "new_elements = [operation(element) for element in iterable]\n",
    "```\n",
    "\n",
    "Hier wird bspw. die Operation $x^2$ auf alle $x \\in [0,10]$ angewendet:"
   ]
  },
  {
   "cell_type": "code",
   "execution_count": null,
   "metadata": {},
   "outputs": [],
   "source": [
    "[x**2 for x in range(11)]"
   ]
  },
  {
   "cell_type": "markdown",
   "metadata": {},
   "source": [
    "## Aufgabe 2 - Primzahlen\n",
    "\n",
    "Schreibe ein Programm, das alle Primzahlen kleiner `50` bestimmt. Füge sie der Liste `primes` hinzu.\n",
    "\n",
    "**Hinweis:** Der `%`-Operator gibt den Rest der Division zweier Integer zurück.\n",
    "\n",
    "**Möglicher Ansatz:** Versuch's mal mit einer Boolean-Variable `is_prime` für jede der Zahlen bis `50`, die zunächst `True` ist und dann in einer zweiten `for`-Schleife ggfs. auf `False` gesetzt wird.\n",
    "\n",
    "**Erinnerung:** Mit der `append` Methode können wir Elemente einer Liste hinzufügen."
   ]
  },
  {
   "cell_type": "code",
   "execution_count": null,
   "metadata": {
    "nbgrader": {
     "grade": false,
     "grade_id": "102-2-sol",
     "locked": false,
     "schema_version": 1,
     "solution": true
    }
   },
   "outputs": [],
   "source": [
    "primes = []\n",
    "### BEGIN SOLUTION\n",
    "for n in range(50):\n",
    "    # Deine Lösung hier\n",
    "    # kleiner Hinweis: vllt du brauchst eine zweite For-Schleife??\n",
    "    pass  # `pass` ist ein Platzhalter und sagt Python, dass es einfach nix machen soll.\n",
    "    # wenn nach einem Doppelpunkt nichts kommt, wirft Python Fehler aus.\n",
    "    # `pass` ist ganz praktisch, wenn man den Schleifenkopf schon angelegt hat,\n",
    "    # aber mit der Implementierung noch nicht fertig ist.\n",
    "### END SOLUTION\n",
    "primes"
   ]
  },
  {
   "cell_type": "code",
   "execution_count": null,
   "metadata": {
    "nbgrader": {
     "grade": true,
     "grade_id": "102-2-test",
     "locked": true,
     "points": 2,
     "schema_version": 1,
     "solution": false
    }
   },
   "outputs": [],
   "source": [
    "trimmed_primes = primes\n",
    "for x in [0, 1]:\n",
    "    try:\n",
    "        trimmed_primes.remove(x)\n",
    "    except ValueError:\n",
    "        pass\n",
    "assert [\n",
    "    2,\n",
    "    3,\n",
    "    5,\n",
    "    7,\n",
    "    11,\n",
    "    13,\n",
    "    17,\n",
    "    19,\n",
    "    23,\n",
    "    29,\n",
    "    31,\n",
    "    37,\n",
    "    41,\n",
    "    43,\n",
    "    47,\n",
    "] == trimmed_primes, \"Die Liste von Primzahlen sollte bei 0, 1 oder 2 beginnen und die Primzahlen bis inkl. 47 enthalten\"\n",
    "print(\"Sehr gut! 🎉🎉🎉\")"
   ]
  },
  {
   "cell_type": "markdown",
   "metadata": {},
   "source": [
    "## `while`-Schleifen\n",
    "\n",
    "Eine `while`-Schleife führt einen Codeblock so oft aus, bis eine Bedingung `False` ergibt und ist durch folgende Syntax definiert:\n",
    "\n",
    "```python\n",
    "while condition:\n",
    "    # do something\n",
    "```"
   ]
  },
  {
   "cell_type": "code",
   "execution_count": null,
   "metadata": {},
   "outputs": [],
   "source": [
    "a = 1\n",
    "while a < 10:\n",
    "    print(\"a ist kleiner als 10 ({}), multipliziere mit 1.5.\".format(a))\n",
    "    a = a * 1.5\n",
    "print(\"Schleife beendet, a ist nun {}.\".format(a))"
   ]
  },
  {
   "cell_type": "markdown",
   "metadata": {},
   "source": [
    "## Aufgabe 3 - Fibonacci\n",
    "\n",
    "Verwende eine `while`-Schleife um die Zahlen der Fibonacci-Reihe bis 100 der Liste `fib_numbers` hinzuzufügen. Die ersten zwei Zahlen sind `0` und `1` und jede weitere Zahl ist die Summe der beiden vorherigen.\n",
    "\n",
    "**Erinnerung:** Auf das letzte Element einer Reihe können wir mit dem Subskript `l[-1]` zugreifen. Das vorletzte Element ist dann entsprechend `l[-2]`."
   ]
  },
  {
   "cell_type": "code",
   "execution_count": null,
   "metadata": {
    "nbgrader": {
     "grade": false,
     "grade_id": "102-3-sol",
     "locked": false,
     "schema_version": 1,
     "solution": true
    }
   },
   "outputs": [],
   "source": [
    "fib_numbers = [ 0, 1 ]\n",
    "### BEGIN SOLUTION\n",
    "while  # deine Lösung hier!  # noqa\n",
    "### END SOLUTION\n",
    "fib_numbers"
   ]
  },
  {
   "cell_type": "code",
   "execution_count": null,
   "metadata": {
    "nbgrader": {
     "grade": true,
     "grade_id": "102-3-test",
     "locked": true,
     "points": 2,
     "schema_version": 1,
     "solution": false
    }
   },
   "outputs": [],
   "source": [
    "assert [\n",
    "    0,\n",
    "    1,\n",
    "    1,\n",
    "    2,\n",
    "    3,\n",
    "    5,\n",
    "    8,\n",
    "    13,\n",
    "    21,\n",
    "    34,\n",
    "    55,\n",
    "    89,\n",
    "] == fib_numbers, \"Die Liste sollte mit [ 0, 1, 1, 2, ...] beginnen und die Fibonacci-Zahlen bis einschließlich 89 enthalten.\"\n",
    "print(\"👌 Richtig!\")"
   ]
  },
  {
   "cell_type": "markdown",
   "metadata": {},
   "source": [
    "---\n",
    "## Aufgabe 4 - Flowchart\n",
    "\n",
    "Implementiere dieses (nicht so ganz ernst gemeinte 😉) \"engineering flowchart\" in Python.\n",
    "![](https://i.pinimg.com/originals/e8/c2/d9/e8c2d940a3c253d57d3a6cdddc916168.jpg)\n",
    "\n",
    "Für den Anfang bekommst du ein kleines Grundgerüst, das du an den gekennzeichneten Stellen vervollständigen sollst.\n",
    ">**Tipp:** Mit der Funktion `input()` kannst du eine Konsoleneingabe des Benutzers einlesen."
   ]
  },
  {
   "cell_type": "code",
   "execution_count": null,
   "metadata": {},
   "outputs": [],
   "source": [
    "print(\"Engineering flowchart\")\n",
    "inp_1 = input(\"Does it move?\")\n",
    "\n",
    "if inp_1 == \"no\":\n",
    "    inp_2 = input(\"Should it?\")\n",
    "    if inp_2 == \"no\":\n",
    "        print(\"No problem!\")\n",
    "    elif inp_2 == \"yes\":\n",
    "        pass  # remove the pass and write your own code!\n",
    "    else:\n",
    "        print(\"Please answer with yes or no!\")\n",
    "\n",
    "elif False:  # exchane the False by a sensible boolean operation\n",
    "    pass  # remove the pass and write your code!"
   ]
  },
  {
   "cell_type": "markdown",
   "metadata": {},
   "source": [
    "---\n",
    "## Aufgabe 5 - Bessere Benutzereingabe\n",
    "\n",
    "In unserer ersten Variante des \"Engineering Flowcharts\" haben wir keine Routine eingebaut, die fehlerhafte Benutzereingaben abfängt und verarbeitet. \n",
    "Das wollen wir verbessern!\n",
    "Schreibe deshalb ein Programm, das den Benutzer immer wieder mit `input()` so lange auffordert, entweder \"yes\" oder \"no\" einzutippen, bis er eine gültige Eingabe getätigt hat. Zum Schluss soll die gültige Eingabe in der Variablen `inp` gespeichert werden.\n",
    "> **Tipp:** Benutze eine `while`-Schleife!\n",
    "> **Hinweis:** Wenn du ein laufendes Programm stoppen willst, klicke auf das quadratische Symbol (_Interrupt the kernel_) in der Menuleiste des Notebooks!"
   ]
  },
  {
   "cell_type": "code",
   "execution_count": null,
   "metadata": {
    "tags": []
   },
   "outputs": [],
   "source": [
    "### DEINE LÖSUNG HIER"
   ]
  },
  {
   "cell_type": "markdown",
   "metadata": {},
   "source": [
    "---\n",
    "## Aufgabe 6 - Verbessertes Flowchart\n",
    "\n",
    "Erweitere jetzt deinen Code aus Aufgabe 4 mit der Abfrage-Routine, die du in Aufgabe 5 entwickelt hast, um ein besseres Flowchart-Programm zu programmieren, dass nur die Eingaben \"yes\" und \"no\" akzeptiert"
   ]
  },
  {
   "cell_type": "code",
   "execution_count": null,
   "metadata": {},
   "outputs": [],
   "source": [
    "### Deine LÖSUNG HIER"
   ]
  },
  {
   "cell_type": "markdown",
   "metadata": {},
   "source": [
    "---\n",
    "## Aufgabe 7 - das ULTIMATIVE Flowchart\n",
    "\n",
    "Dein Flowchart-Programm wächst und gedeiht! Jetzt kannst du noch ein weiteres Feature einbauen. Es wäre super praktisch, wenn nicht nur genau \"yes\" und \"no\", sondern auch ähnliche in großen oder gemischten Buchstaben akzeptiert werden. Also z.B. \"Yes\" oder \"NO\".\n",
    "\n",
    "> **Tipp:** Versuche nicht, alle möglichen Eingaben mit if-else-Anweisungen abzudecken. Schau dir lieber nochmal die String-Methoden aus Lektion 101 an und suche in der [offiziellen Python-Dokumentation](https://docs.python.org/3/library/stdtypes.html#string-methods) nach passenden Befehlen!. "
   ]
  },
  {
   "cell_type": "code",
   "execution_count": null,
   "metadata": {},
   "outputs": [],
   "source": [
    "### DEINE LÖSuNG HIER"
   ]
  },
  {
   "cell_type": "markdown",
   "metadata": {},
   "source": [
    "---\n",
    "\n",
    "Du kannst jetzt Programme in Python schreiben, die dir etwas ausrechnen!\n",
    "Allerdings wird der Code von komplexeren Programmen sehr schnell ziemlich unübersichtlich, wie du in Aufg. 6 und 7 bestimmt gemerkt hast!\n",
    "Lerne in der nächsten Lektion, wie du Code als \"Bausteine\" deines Programms in _Funktionen_ verpackst, die deinen Code übersichtlicher und besser handhabbar machen. \n",
    "Für viele Probleme gibt es schon Funktionen und du musst sie nur aus _Modulen_ laden.\n",
    "\n",
    "[Startseite](index.ipynb) | [**>> 103 - Funktionen und Module**](103_Funktionen_und_Module.ipynb)"
   ]
  }
 ],
 "metadata": {
  "kernelspec": {
   "display_name": "Python 3",
   "language": "python",
   "name": "python3"
  },
  "language_info": {
   "codemirror_mode": {
    "name": "ipython",
    "version": 3
   },
   "file_extension": ".py",
   "mimetype": "text/x-python",
   "name": "python",
   "nbconvert_exporter": "python",
   "pygments_lexer": "ipython3",
   "version": "3.6.9"
  }
 },
 "nbformat": 4,
 "nbformat_minor": 4
}
