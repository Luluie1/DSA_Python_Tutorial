{
 "cells": [
  {
   "cell_type": "markdown",
   "id": "e824bdb0-15a3-4321-ab3e-cf5e6b01c777",
   "metadata": {},
   "source": [
    "Kurs 5.3 \"Vom Gehirn Lernen\" -- Python-Tutorial  | [Startseite](index.ipynb)\n",
    "\n",
    "---"
   ]
  },
  {
   "cell_type": "markdown",
   "id": "8c823c24-2ede-4890-ad16-99cc288dc3c4",
   "metadata": {},
   "source": [
    "# Gelateria di Rossleben\n",
    "\n",
    "Die (fiktive) Gelateria di Rossleben hat eine Umfrage gestartet, um herauszufinden, wie beliebt ihre Eissorten sind! 🍨😋 🌞\n",
    "Das Ergebnis haben die Mitarbeiter:innen im Ordner `data` als `.csv`-Dateien abgespeichert und bitten Dich um Hilfe: Du sollst für sie den Datensatz auswerten!\n",
    "\n",
    "30 Stammkund:innen wurden gebeten, die zwölf Eissorten von 1 (= naja, wenn's sein muss) bis 5 (= super hammer mega lecker) zu bewerten.\n",
    "\n",
    "Mit dieser Aufgabe kannst du dein neues Pythonwissen testen und üben! Wir bitten dich, uns deine Lösung bis zum XXX zukommen zu lassen. Am einfachsten macht Du einen Ordner auf EBRAINS mit dem Namen `gelateria_final` und kopierst das fertige Notebook da rein. Schreibe uns dann im Chat, dass du fertig bist! :)\n",
    "\n",
    ">Hinweis: Wie immer gilt: Es ist **nicht schlimm**, wenn du hierbei Probleme hast! Versuch einfach dein Bestes. Gib lieber eine halbfertige Lösung ab als gar nichts, denn: Übung _und_ Feedback machen die Meisterin/den Meister! Solltest du je große Schwierigkeiten haben und gar nicht weiter kommen, dann frag uns einfach! Das hier ist schließlich **kein Test** und du bekommst auch **keine Note** oder so!\n",
    "\n",
    "> Noch ein Hinweis: Mach dir wegen der Akademie bitte **keine Sorgen**, wenn Python jetzt noch nicht so gut sitzt!!! Aller Anfang ist schwer und Programmieren kann echt manchmal verwirrend und frustierend sein (frag mal deine Kursleitenden... 🙄). Auf der Akademie werden wir viel Zeit haben, alles nochmal durchzugehen und dir zu helfen! :) Und wir werden auch nicht 24 Stunden lang pro Tag programmieren. Versprochen! 😉"
   ]
  },
  {
   "cell_type": "code",
   "execution_count": null,
   "id": "f72fa811-414b-4e3f-b042-8c75bb5a2842",
   "metadata": {},
   "outputs": [],
   "source": [
    "import numpy as np\n",
    "\n",
    "%matplotlib inline\n",
    "import matplotlib.pyplot as plt"
   ]
  },
  {
   "cell_type": "markdown",
   "id": "da887447-b0b1-4f1c-863a-6c98a39e6195",
   "metadata": {},
   "source": [
    "## 1. Untersuche den Datensatz von 2022\n",
    "\n",
    "### 1.1 Lade die Daten\n",
    "\n",
    "Schaue dir zunächst die Rohdaten an. Lade dann den Datensatz von 2022 in ein Numpy-Array. Nutze dafür eine numpy-Funktion, die du schon kennst! "
   ]
  },
  {
   "cell_type": "code",
   "execution_count": null,
   "id": "61dd0075-0200-4698-9333-876322608f24",
   "metadata": {},
   "outputs": [],
   "source": [
    "# DEINE LÖSUNG HIER"
   ]
  },
  {
   "cell_type": "markdown",
   "id": "bcffaa56-4297-44cf-9eb8-6a3b615b56fc",
   "metadata": {},
   "source": [
    "Außerdem ist es hilfreich, den Header des CSV-Files zu laden. Benutze dafür die folgende Funktion!"
   ]
  },
  {
   "cell_type": "code",
   "execution_count": null,
   "id": "69d4b5ef-98ec-4e8d-9db1-cdcc41e5b7e6",
   "metadata": {},
   "outputs": [],
   "source": [
    "def load_header(filename):\n",
    "    with open(filename, \"r\") as f:\n",
    "        rawdata = f.readlines()\n",
    "        header = rawdata[0][2:-1].split(sep=\", \")\n",
    "    return header\n",
    "\n",
    "\n",
    "# DEINE LÖSUNG HIER"
   ]
  },
  {
   "cell_type": "markdown",
   "id": "f990fa25-a153-4f3d-82a8-c9b5ca9ccbb8",
   "metadata": {},
   "source": [
    "### 1.2 Visualisiere die Ergebnisse:\n",
    "\n",
    "Welche Eissorte ist die (un)beliebste? Berechne dafür den Mittelwert jeder Eissorte. Benutze eine Numpy-Funktion, die du schon kennst. Beachte, dass es sich um ein zweidimentionales Array handelt und du möglicherweise die Achse angeben musst, entlang derer du den Mittelwert ausrechnest!"
   ]
  },
  {
   "cell_type": "code",
   "execution_count": null,
   "id": "376a1ceb-ad95-4f90-9e3b-0eebd70ca5b8",
   "metadata": {},
   "outputs": [],
   "source": [
    "# DEINE LÖSUNG HIER"
   ]
  },
  {
   "cell_type": "markdown",
   "id": "6019eb22-0af9-49fe-8b83-2cad132c5fd7",
   "metadata": {},
   "source": [
    "Visualisiere die Mittelwerte. \n",
    "\n",
    "> Tipp: Hier bietet sich ein Balkendiagramm an!\n",
    "\n",
    "Beschrifte außerdem die Achsen und jeden Balken. Letzteres kannst du mit der Funktion `plt.xticks` erreichen. Wenn du die Tick-Labels vertikal ausrichten willst, kannst du sie mit dem Keyword-Argument `rotation=\"vertical\"` drehen."
   ]
  },
  {
   "cell_type": "code",
   "execution_count": null,
   "id": "55457d09-5589-4237-8272-c4b156307b20",
   "metadata": {},
   "outputs": [],
   "source": [
    "# DEINE LÖSUNG HIER"
   ]
  },
  {
   "cell_type": "markdown",
   "id": "5e7154ac-e6f2-4865-8868-edb52d033649",
   "metadata": {},
   "source": [
    "Bei welcher Sorte sind sich die Kund:innen am (un)einigsten? Erstelle auch hierfür einen passenden Plot!\n",
    "\n",
    "> Tipp: Jetzt ist die [Standardabweichung](https://de.wikipedia.org/wiki/Varianz_(Stochastik)) (englisch: Standard-Deviation) gefragt!"
   ]
  },
  {
   "cell_type": "code",
   "execution_count": null,
   "id": "bfa786ed-cc11-4397-be9b-480d8a34a10b",
   "metadata": {},
   "outputs": [],
   "source": [
    "# DEINE LÖSUNG HIER"
   ]
  },
  {
   "cell_type": "markdown",
   "id": "73dda8f7-2e12-454c-9cd3-6036eb17f512",
   "metadata": {},
   "source": [
    "## 2. Wie hat sich die Beliebtheit im Laufe der Jahre verändert?\n",
    "\n",
    "Die Umfrage wurde auch in den Jahren 2018 bis 2021 durchgeführt. Wir wollen herausfinden, wie sich die Eissorten in der jüngeren Vergangenheit entwickelt haben!\n",
    "\n",
    "### 2.1 Lade dazu alle Datensätze!\n",
    "> Tipp: Nutze eine `for`-Schleife!"
   ]
  },
  {
   "cell_type": "code",
   "execution_count": null,
   "id": "72f29add-6f34-406f-b04e-0fa0afacedb6",
   "metadata": {},
   "outputs": [],
   "source": [
    "# DEINE LÖSUNG HIER"
   ]
  },
  {
   "cell_type": "markdown",
   "id": "9fbd054a-2faa-487e-a470-479462399fc6",
   "metadata": {},
   "source": [
    "### 2.3 Analysiere die Daten.\n",
    "\n",
    "Untersuche nun die Entwicklung im Laufe der Jahre! Berechne dafür die sowohl die Mittelwerte als auch die Standardweichungen."
   ]
  },
  {
   "cell_type": "code",
   "execution_count": null,
   "id": "51d5d1df-0c5d-43c5-a9dc-0282c005f0c7",
   "metadata": {},
   "outputs": [],
   "source": [
    "# DEINE LÖSUNG HIER"
   ]
  },
  {
   "cell_type": "markdown",
   "id": "f483d96a-1569-48ec-a01c-1c1a7886bb84",
   "metadata": {},
   "source": [
    "### 2.4 Visualisiere die Ergebnisse.\n",
    "\n",
    "Plotte nun den Verlauf der _drei beliebtesten Eissorten 2022_. In diesem Fall ist ein Diagramm vom Typ `plt.errorbar` genau das, was wir brauchen!\n",
    "\n",
    "> Hinweis: Vergiss die Achsenbeschriftung und die Legende nicht! \n",
    "\n",
    "![](https://tse4.mm.bing.net/th?id=OIP.w7K33w58mCo3MV0hd7iR8AHaHC&pid=Api)\n",
    "\n"
   ]
  },
  {
   "cell_type": "code",
   "execution_count": null,
   "id": "eafc0d9d-005f-4ffd-bdb6-75194226780b",
   "metadata": {},
   "outputs": [],
   "source": [
    "# DEINE LÖSUNG HIER"
   ]
  },
  {
   "cell_type": "markdown",
   "id": "0ef95982-d89d-431b-b9ce-31eaa4a02812",
   "metadata": {},
   "source": [
    "## 3. Dein Feedback\n",
    "\n",
    "Hand aufs Herz, wie schwer ist dir diese Aufgabe gefallen? Bitte gib uns Rückmeldung in Form einer Zahl von 1 (= Ich hab mich echt schwer getan) bis 5 (=war mega einfach).\n",
    "Versuche außerdem in drei kurzen (Halb-)Sätzen zu artikulieren, _was_ genau du leicht fandest bzw. _worin_ du Schwierigkeiten hattest!"
   ]
  },
  {
   "cell_type": "code",
   "execution_count": null,
   "id": "dd82826d-453b-4dc3-8f92-0e9ceb9f8b3c",
   "metadata": {},
   "outputs": [],
   "source": [
    "# DEIN FEEDBACK HIER\n",
    "\n",
    "# GESAMTBEWERTUNG:\n",
    "\n",
    "# drei erklärende Halbsätze, warum die die Aufgabe leicht/schwer gefallen ist:"
   ]
  }
 ],
 "metadata": {
  "kernelspec": {
   "display_name": "Python 3 (ipykernel)",
   "language": "python",
   "name": "python3"
  },
  "language_info": {
   "codemirror_mode": {
    "name": "ipython",
    "version": 3
   },
   "file_extension": ".py",
   "mimetype": "text/x-python",
   "name": "python",
   "nbconvert_exporter": "python",
   "pygments_lexer": "ipython3",
   "version": "3.8.16"
  }
 },
 "nbformat": 4,
 "nbformat_minor": 5
}
