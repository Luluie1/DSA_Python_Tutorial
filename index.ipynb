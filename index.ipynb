{
 "cells": [
  {
   "cell_type": "markdown",
   "metadata": {},
   "source": [
    "# Python-Tutorial für den DSA-Kurs \"Vom Gehirn lernen\""
   ]
  },
  {
   "cell_type": "markdown",
   "metadata": {},
   "source": [
    "---\n",
    "\n",
    "## Inhalt\n",
    "\n",
    "- [Einleitung und Inhalthaltsverzeichsnis (hier)](index.ipynb)\n",
    "- [Python installieren und ausführen](setup.ipynb)\n",
    "\n",
    "\n",
    "- [101 - Grundlagen der Programmierung in Python](101_Pythonvariablen.ipynb)\n",
    "- [102 - Control Flow](102_Controlflow.ipynb)\n",
    "- [103 - Funktionen und Module](103_Funktionen_und_Module.ipynb)\n",
    "\n",
    "\n",
    "- [201 - Numerik mit Numpy](201_Numerik_mit_Numpy.ipynb)\n",
    "- [202 - Plots mit Matplotlib](202_Plots_mit_Matplotlib.ipynb)\n",
    "\n",
    "\n",
    "- [301 - Abschlussaufgabe](301_Gelateria.ipynb)"
   ]
  },
  {
   "cell_type": "markdown",
   "metadata": {},
   "source": [
    "---\n",
    "\n",
    "## Fangen wir an!\n",
    "\n",
    "Dieser Kurs besteht aus interaktiven _[Jupyter Notebooks](http://jupyter.org)_. \n",
    "Du schaust gerade auf eines! \n",
    "In einem Notebook kannst du Code ausführen und zusätzlich erklärenden Text, $\\LaTeX$ Gleichungen, Bilder und mehr einfügen.\n",
    "Damit eignen sich Jupyter Notebooks hervorragend für wissenschaftliche Arbeit.\n",
    "\n",
    "Wenn du diesen Kurs zum ersten Mal startest, startest du ihn wahrscheinlich auf [EBRAINS](https://wiki.ebrains.eu/bin/view/Collabs/#), wo die komplette Python-Umgebung inklusive Jupyter und allen benötigten Packages schon vorinstalliert sind.\n",
    "Das bedeutet, dass du nichts weiter machen musst, als dieses Tutorial durchzuarbeiten! :)\n",
    "\n",
    "Wenn du aber Lust auf mehr Python bekommen hast, und du selbstständig Python auf deinem eigenen PC installieren möchtest, findest du [hier](setup.ipynb) eine Anleitung dafür.\n",
    "Dies ist aber freiwillig!\n",
    "Auch während der DSA werden nur auf EBRAINS arbeiten, eine eigene Pythoninstallation ist daher auch für die eigentliche Kursarbeit nicht notwendig.\n",
    "\n",
    "Ohne weitere Vorbereitung kannst du den Kurs jetzt online absolvieren.\n",
    "Dazu stellen wir das Kursmaterial interaktiv zur Verfügung.\n",
    "Doppelklicke einfach einmal auf diesen Text.\n",
    "Kannst du die Zelle nun bearbeiten?\n",
    "Dann ist alles bereit und du kannst loslegen.\n",
    "Drücke `<SHIFT> + <ENTER>` und lies einfach weiter.\n",
    "\n",
    "**Und ganz wichtig!\n",
    "Wenn du Fragen hast oder nicht weiter kommst, zögere nicht und wende dich (am besten per Mail oder über den Chat auf myBuB) an deine Kursleitenden.** \n",
    "Sie freuen sich, dir zu helfen!"
   ]
  },
  {
   "cell_type": "markdown",
   "metadata": {
    "slideshow": {
     "slide_type": "slide"
    }
   },
   "source": [
    "---\n",
    "\n",
    "## Programmieren in der Wissenschaft\n",
    "\n",
    "Viele Aufgaben und Probleme, u.a. in der Wissenschaft, können wir an einen Computer auslagern.\n",
    "Doch dieser benötigt eine exakte Anleitung.\n",
    "Die Aufgabe des Programmierers ist, das Problem konzeptionell zu verstehen und in eine Aneinanderreihung von Befehlen zu übersetzen, die ein Computer ausführen kann.\n",
    "\n",
    "Gut programmieren zu können heißt nicht einfach nur die Programmiersprache zu kennen oder sehr schnelle Programme zu schreiben, sondern auch:\n",
    "\n",
    "- ein Problem aufzuteilen, bis einzelne Teilprobleme von einem Computer gelöst werden können, und diese wieder zusammenzusetzen\n",
    "- sich passender Tools zu bedienen, wenn diese bereits ein Teilproblem lösen\n",
    "- ein Programm systematisch untersuchen und verstehen zu können, bspw. um Fehler zu finden\n",
    "- Programme zu schreiben, die _schnell genug_ sind, und nicht so schnell wie irgend möglich\n",
    "- Programme zu schreiben, die auch eine andere Person versteht (oder du selbst noch im nächsten Jahr)\n",
    "\n",
    "> Der letzte Punkt ist gerade in der Wissenschaft unter den Stichwörtern der **Reproduzierbarkeit** und **_open science_** von größter Wichtigkeit.\n",
    "Es bedeutet, dass auch andere deinen Code verstehen und selbst ausführen können und dabei die gleichen Resultate erhalten wie du.\n",
    "Du solltest Code immer mit der Annahme schreiben, dass andere Personen ihn lesen werden.\n",
    "Am Anfang ist es noch nicht soo wichtig, dass du \"den perfekten\" Code schreibst.\n",
    "Wichtig ist viel ein konzeptionelles Verständnis vom Programmieren und speziell von Python.\n",
    "Um die Details kümmern wir uns dann auf der Akademie."
   ]
  },
  {
   "cell_type": "markdown",
   "metadata": {
    "slideshow": {
     "slide_type": "notes"
    }
   },
   "source": [
    "![Python Logo](https://www.python.org/static/community_logos/python-logo-master-v3-TM.png)"
   ]
  },
  {
   "cell_type": "markdown",
   "metadata": {
    "slideshow": {
     "slide_type": "slide"
    },
    "tags": []
   },
   "source": [
    "## Wie unterscheidet sich Python von anderen Programmiersprachen?\n",
    "\n",
    "[Python](https://python.org) ist eine _interpretierte_ Programmiersprache, d.h. der Code wird nicht kompiliert bevor er ausgeführt wird.\n",
    "Dadurch ist ein Python-Programm in der Regel langsamer als ein äquivalentes Programm, das bspw. in C, C++ oder Fortran geschrieben wurde.\n",
    "Warum programmieren wir also in Python?\n",
    "\n",
    "- Die Syntax ist so einfach und übersichtlich, dass sich Python Code häufig schon fast wie Englisch liest.\n",
    "- Es kann sehr viel schneller gehen ein Python Programm zu schreiben, das tut, was man erwartet, als in vielen anderen Sprachen.\n",
    "- Ein Python Programm kann recht einfach externen Code in anderen Sprachen aufrufen, sodass rechenintensive Operationen in C oder Fortran ausgelagert werden können. Numerische Packages wie _Numpy_, die wir in der Wissenschaft verwenden, machen sich dies zunutze. So erhalten wir die Annehmlichkeit von Python und die Geschwindigkeit von C!\n",
    "- In diesem Einführungskurs liegt der Fokus auf Aspekten der Programmierung, die in der wissenschaftlichen Anwendung besonders wichtig oder praktisch sind. Python ist jedoch eine beliebte und sehr vielseitige Sprache und wird auch in vielen anderen Bereichen verwendet. Was du hier lernst, kannst du bspw. auch zum Schreiben von [Servern](https://www.djangoproject.com), [Webseiten](https://github.com/getpelican/pelican) oder [Spielen](https://www.pygame.org/news) anwenden!"
   ]
  },
  {
   "cell_type": "markdown",
   "metadata": {
    "slideshow": {
     "slide_type": "slide"
    }
   },
   "source": [
    "### Woher kommt der Name _Python_?\n",
    "\n",
    "Obwohl das Python-Logo Schlangen enthält, kommt der Name _Python_ ursprünglich von der [Monty Python](http://en.wikipedia.org/wiki/Monty_Python) Comedy Gruppe!\n",
    "\n",
    "![](https://upload.wikimedia.org/wikipedia/en/c/cb/Flyingcircus_2.jpg)\n",
    "\n",
    "Aus diesem Grund enthält die offizielle Python Dokumentation viele Referenzen zu Monty Python."
   ]
  },
  {
   "cell_type": "markdown",
   "metadata": {},
   "source": [
    "## Was tun bei Fragen und Problemen?\n",
    "\n",
    "Es ist ganz normal, dass dein Code nicht von Anfang an funktioniert! Was also kannst du tun, wenn du eine Fehlermeldung bekommst und nicht weiterweißt?\n",
    "\n",
    "1. Gehe stets kleinschrittig vor! Baue nicht zu viele Änderungen auf einmal ein. Schreibe lieber nur ein bis zwei neue Zeilen und teste, ob sie das machen, was du dir vorgestellt hast. Wenn dabei etwas schiefgeht, ist es einfacher, den Fehler zu finden.\n",
    "2. Schaue dir die Fehlermeldung genau an! Python ist ganz gut darin, verständliche Fehlermeldungen auszugeben. Manchmal liegt das Problem auch nicht direkt in der jeweiligen Zeile, die vor dir liegt, sondern in einem Code-Teil, den du aufgerufen hast. Auch das wird dir Python anzeigen.\n",
    "3.Wenn du aus der Fehlermeldung nicht schlau wirst, kopiere die letzte Zeile der Fehlermeldung (die beginnt meistens mit `<Some>Error:`) und füge sie in die Suchmaschine deiner Wahl ein. Wahrscheinlich bist du nicht der oder die Erste mit dem Problem! Oft findest du relativ weit oben in den Suchergebnissen einen Link zu [Stackoverflow](https://stackoverflow.com/). Das ist ein Onlineforum, in dem Codeentwickler:innen Fragen stellen und beantworten können. Das ist eine gute Quelle für Hilfe!\n",
    "4. Weitere nützliche Webseiten bei Fragen oder wenn du mehr über Python wissen willst:\n",
    "   - Die offizielle [Python-Dokumentation](https://docs.python.org/3/library/index.html)\n",
    "   - [Pythontutorial](https://docs.python.org/3/tutorial/index.html) auf der offiziellen Python-Website\n",
    "   - [Realpython](https://realpython.com/) -- Timos Liebslings-Pythonreferenz! Dikatisch sehr gut aufbereitete Tutorials zu sämtlichen Themen im Pythonuniversum. Manche Tutorials sind allerdings kostenpflichtig (aber bei weitem nicht alle!)\n",
    "5.) Frag deine beiden Kursleitenden! Und mach das *nicht* erst, wenn du das gesamte Web durchgesucht hast, trotzdem noch keine Lösung gefunden und schon fast am Verzweifeln bist!!! (Sondern schon früher! 😉)\n"
   ]
  },
  {
   "cell_type": "markdown",
   "metadata": {
    "tags": []
   },
   "source": [
    "## Feedback und Fragen erwünscht!\n",
    "\n",
    "Mit deinem Feedback können wir diesen Kurs verbessern, wovon auch zukünftige DSA-Kurse, die sich an diesem Tutorial orientieren, profitieren. \n",
    "Lass uns gerne (am besten per Mail oder über die myBuB-Plattform) wissen, was du gut findest, ob du etwas nicht verstanden hast und was wir besser machen können.\n",
    "\n",
    "Und wenn du Fragen zu einem Thema hast, oder einfach nicht weiterkommst, zögere bitte nicht und wende dich an Laura oder Timo!\n",
    "Es gibt keine \"dummen\" Fragen, und es ist ganz normal, dass Programmieren am Anfang schwer ist!\n"
   ]
  },
  {
   "cell_type": "markdown",
   "metadata": {},
   "source": [
    "---\n",
    "\n",
    "Hier geht's zur ersten Lektion:\n",
    "\n",
    "[**>> 101 - Grundlagen der Programmierung in Python**](101_Pythonvariablen.ipynb)"
   ]
  }
 ],
 "metadata": {
  "kernelspec": {
   "display_name": "Python 3",
   "language": "python",
   "name": "python3"
  },
  "language_info": {
   "codemirror_mode": {
    "name": "ipython",
    "version": 3
   },
   "file_extension": ".py",
   "mimetype": "text/x-python",
   "name": "python",
   "nbconvert_exporter": "python",
   "pygments_lexer": "ipython3",
   "version": "3.6.9"
  }
 },
 "nbformat": 4,
 "nbformat_minor": 4
}
