{
 "cells": [
  {
   "cell_type": "markdown",
   "metadata": {},
   "source": [
    "Kurs 5.3 \"Vom Gehirn Lernen\" -- Python-Tutorial  | [Startseite](index.ipynb)\n",
    "\n",
    "---"
   ]
  },
  {
   "cell_type": "markdown",
   "metadata": {},
   "source": [
    "# 201 - Numerik mit Numpy"
   ]
  },
  {
   "cell_type": "markdown",
   "metadata": {},
   "source": [
    "- [Numpy Arrays erstellen](#Numpy-Arrays-erstellen)\n",
    "- [Aufgabe 1 - Numpy Arrays](#Aufgabe-1---Numpy-Arrays)\n",
    "- [Aufgabe 2 - Masken & Slicing](#Aufgabe-2---Masken-&-Slicing)\n",
    "- [Funktionen auf Arrays anwenden](#Funktionen-auf-Arrays-anwenden)\n",
    "- [Daten einlesen und speichern](#Daten-einlesen-und-speichern)\n",
    "- [Aufgabe 3 - Temperaturen in Heidelberg](#Aufgabe-3---Temperaturen-in-Heidelberg)"
   ]
  },
  {
   "cell_type": "markdown",
   "metadata": {},
   "source": [
    "Python Listen sind sehr flexibel, da sie Werte unterschiedlicher Datentypen beinhalten können und einfach verändert werden können (bspw. mit `append`). \n",
    "Diese Flexibilität geht jedoch auf Kosten der Performance, sodass Listen für numerische Berechnungen nicht ideal sind.\n",
    "\n",
    "Das [**Numpy**](https://numpy.org/) Modul definiert daher den n-dimensionalen **Array** Datentyp `numpy.ndarray`, der für numerische Berechnungen auf höchst performanten C und Fortran Code zurückgreift.\n",
    "\n",
    "Arrays können nur Werte eines einzelnen numerischen Datentyps (bspw. Floatingpoint-Werte) enthalten und sind sehr viel starrer als Listen. \n",
    "Dies ist jedoch für viele wissenschaftliche Anwendungen, wie die Arbeit mit Datensätzen, genau was wir brauchen!\n",
    "\n",
    "Numpy ist ein sehr umfangreiches Package mit sehr vielen ausgeklügelten Funktionalitäten.\n",
    "Du musst **nicht alle Funktionen und Methoden von Anfang aus auswendig lernen**. \n",
    "Es geht viel mehr um die grundlegenden Konzepte: \n",
    "Was ist der Unterschied zwischen einer Standard-Pythonliste und einem Numpy-Array? \n",
    "Wie erstelle ich ein Numpy-Array?\n",
    "Wie kann ich auf einzelne Elemente zugreifen und sie manipulieren?\n",
    "Wie kann ich Funktionen auf Numpy-Arrays anwenden, um damit etwas auszurechnen?\n",
    "\n",
    "Bedenke: Beim Programmieren geht es in erster Linie nicht darum, alle möglichen Funktionen auswendig zu lernen. \n",
    "Das wäre viel zu viel. \n",
    "Eine gute Programmiererin macht vielmehr ihre Fähigkeit aus, ein Problem zu verstehen und in kleinere, logische Einheiten zu zerlegen. \n",
    "Die dafür benötigten Funktionen und Klassen findet man dann in der jeweiligen Dokumentation (für numpy [hier](https://numpy.org/doc/stable/reference/index.html)).\n",
    "\n",
    "> **Tipp:** Es gibt ein gutes und ausführliches [Tutorial](https://numpy.org/devdocs/user/absolute_beginners.html) auf der offiziellen Numpy-Website. Falls du Lust und Zeit hast, kannst du es dir auch anschauen. Das ist aber freiwillig, jedoch sehr empfehlenswert!\n"
   ]
  },
  {
   "cell_type": "markdown",
   "metadata": {},
   "source": [
    "Wir importieren das Numpy Modul per Konvention unter der Abkürzung `np`:"
   ]
  },
  {
   "cell_type": "code",
   "execution_count": null,
   "metadata": {},
   "outputs": [],
   "source": [
    "import numpy as np  # Das Numpy Modul wird per Konvention als `np` abgekürzt"
   ]
  },
  {
   "cell_type": "markdown",
   "metadata": {},
   "source": [
    "## Numpy Arrays erstellen"
   ]
  },
  {
   "cell_type": "markdown",
   "metadata": {},
   "source": [
    "Am einfachsten erstellen wir Numpy Arrays aus Python Listen, indem wir die `numpy.array` Funktion verwenden:"
   ]
  },
  {
   "cell_type": "code",
   "execution_count": null,
   "metadata": {},
   "outputs": [],
   "source": [
    "a = np.array([1, 2, 3, 5, 8, 13])\n",
    "a"
   ]
  },
  {
   "cell_type": "markdown",
   "metadata": {},
   "source": [
    "Ein Array kann auch mehrdimensional sein. \n",
    "Wichtig ist, dass alle Listen entlang einer Dimension (auch _Achse_ oder im Englischen _axis_ genannt), die gleiche Länge haben müssen!"
   ]
  },
  {
   "cell_type": "code",
   "execution_count": null,
   "metadata": {},
   "outputs": [],
   "source": [
    "b = np.array([[1.5, 2.2, 3.1], [4.0, 5.2, 6.7]])\n",
    "b"
   ]
  },
  {
   "cell_type": "markdown",
   "metadata": {},
   "source": [
    "Numpy Arrays haben einige **Attribute**, die hilfreiche Informationen über das Array geben:"
   ]
  },
  {
   "cell_type": "code",
   "execution_count": null,
   "metadata": {},
   "outputs": [],
   "source": [
    "# Die Zahl der Dimensionen des Arrays\n",
    "print(a.ndim)\n",
    "print(b.ndim)"
   ]
  },
  {
   "cell_type": "code",
   "execution_count": null,
   "metadata": {},
   "outputs": [],
   "source": [
    "# Die Länge des Arrays in jeder Dimension\n",
    "print(a.shape)\n",
    "print(b.shape)"
   ]
  },
  {
   "cell_type": "code",
   "execution_count": null,
   "metadata": {},
   "outputs": [],
   "source": [
    "# Der Datentyp des Arrays\n",
    "print(a.dtype)\n",
    "print(b.dtype)"
   ]
  },
  {
   "cell_type": "markdown",
   "metadata": {},
   "source": [
    "> **Erinnerung:** Verwendet die `<TAB>`-Autovervollständigung und die `?`-Dokumentation im Jupyter Notebook wenn ihr nicht wisst, welche Funktionen es gibt oder was diese bewirken!"
   ]
  },
  {
   "cell_type": "markdown",
   "metadata": {},
   "source": [
    "### Es gibt viele Möglichkeiten, Arrays zu erstellen\n",
    "\n",
    "- Die `numpy.arange` Funktion arbeitet ähnlich wie Python's `range` Funktion, kann jedoch auch floating-point Argumente annehmen:"
   ]
  },
  {
   "cell_type": "code",
   "execution_count": null,
   "metadata": {},
   "outputs": [],
   "source": [
    "np.arange(10)"
   ]
  },
  {
   "cell_type": "code",
   "execution_count": null,
   "metadata": {},
   "outputs": [],
   "source": [
    "np.arange(1.5, 2, 0.1)"
   ]
  },
  {
   "cell_type": "markdown",
   "metadata": {},
   "source": [
    "- Außerdem sehr hilfreich ist `numpy.linspace`, welche eine Anzahl von Werten in linearem Abstand zwischen zwei Zahlen generiert:"
   ]
  },
  {
   "cell_type": "code",
   "execution_count": null,
   "metadata": {},
   "outputs": [],
   "source": [
    "np.linspace(10, 20, 4)"
   ]
  },
  {
   "cell_type": "markdown",
   "metadata": {},
   "source": [
    "- Wir können mit `numpy.zeros` und `numpy.ones` Arrays erstellen, die mit Nullen oder Einsen gefüllt sind. Indem wir dem Argument `shape` dieser Funktionen statt einem Integer einen Tupel übergeben, können wir auch mehrdimensionale Arrays erzeugen:"
   ]
  },
  {
   "cell_type": "code",
   "execution_count": null,
   "metadata": {},
   "outputs": [],
   "source": [
    "np.zeros(5)"
   ]
  },
  {
   "cell_type": "code",
   "execution_count": null,
   "metadata": {},
   "outputs": [],
   "source": [
    "np.ones((5, 2))"
   ]
  },
  {
   "cell_type": "markdown",
   "metadata": {},
   "source": [
    "Manchmal ist es nützlich, ein Array in seiner Größe (d.h. Dimensionen) zu verändern. Das können wir mit der `.reshape()`-Methode machen. "
   ]
  },
  {
   "cell_type": "code",
   "execution_count": null,
   "metadata": {},
   "outputs": [],
   "source": [
    "arr = np.arange(12)\n",
    "print(arr)\n",
    "arr2 = arr.reshape(3, 4)\n",
    "print(arr2, arr2.shape)\n",
    "arr3 = arr2.reshape(3, 2, 2)\n",
    "print(arr3, arr3.shape)"
   ]
  },
  {
   "cell_type": "markdown",
   "metadata": {},
   "source": [
    "## Mit Arrays rechnen\n",
    "\n",
    "Arrays können mit den Standardoperatoren `+ - * / **` **elementweise** kombiniert werden:"
   ]
  },
  {
   "cell_type": "code",
   "execution_count": null,
   "metadata": {},
   "outputs": [],
   "source": [
    "x = np.array([1, 2, 3])\n",
    "y = np.array([4, 5, 6])"
   ]
  },
  {
   "cell_type": "code",
   "execution_count": null,
   "metadata": {},
   "outputs": [],
   "source": [
    "x + 2 * y"
   ]
  },
  {
   "cell_type": "code",
   "execution_count": null,
   "metadata": {},
   "outputs": [],
   "source": [
    "x**y"
   ]
  },
  {
   "cell_type": "markdown",
   "metadata": {},
   "source": [
    "> **Achtung:** Für Python-Listen sind diese Operatoren völlig anders definiert!"
   ]
  },
  {
   "cell_type": "markdown",
   "metadata": {},
   "source": [
    "## Funktionen auf Arrays anwenden\n",
    "\n",
    "Während Funktionen aus dem `math` Modul wie `sin` oder `exp` auf Zahlen anwendbar sind, sind die gleichnamigen Funktionen aus dem `numpy` Modul auf Arrays anwendbar. **Die Funktion wird auf alle Element des Arrays** angewendet und ist typischerweise um einiges schneller als jedes Element einzeln zu berechnen:"
   ]
  },
  {
   "cell_type": "code",
   "execution_count": null,
   "metadata": {},
   "outputs": [],
   "source": [
    "phi = np.linspace(0, 2 * np.pi, 10)  # 10 Werte zwischen 0 und 2π\n",
    "np.sin(phi)  # Der Sinus jedes dieser Werte"
   ]
  },
  {
   "cell_type": "markdown",
   "metadata": {},
   "source": [
    "Außerdem gibt es viele Funktionen, die Eigenschaften eines Arrays berechnen:"
   ]
  },
  {
   "cell_type": "code",
   "execution_count": null,
   "metadata": {},
   "outputs": [],
   "source": [
    "x = np.linspace(0, 10, 100)\n",
    "\n",
    "print(np.sum(x))  # berechnet die Summe über alle Elemente\n",
    "print(np.mean(x))  # berechnet den Mittelwert aller Elemente\n",
    "print(np.std(x))  # berechnet die Standardabweichung über alle Elemente"
   ]
  },
  {
   "cell_type": "code",
   "execution_count": null,
   "metadata": {},
   "outputs": [],
   "source": [
    "y = np.random.random_sample(10)  # zeiht 10 Zufallszahlen zwischen 0.0 und 1.0\n",
    "print(y)\n",
    "\n",
    "print(np.min(y))  # gibt den kleinsten Wert im Array zurück\n",
    "i_min = np.argmin(y)  # gibt den Index, d.h. die Position des kleinsten Wertes zurück\n",
    "print(i_min, y[i_min])"
   ]
  },
  {
   "cell_type": "markdown",
   "metadata": {},
   "source": [
    "Diese Funktionen generalisieren auf mehrere Dimensionen, indem die Achse angegeben wird, auf der die Berechnung durchgeführt werden soll:"
   ]
  },
  {
   "cell_type": "code",
   "execution_count": null,
   "metadata": {},
   "outputs": [],
   "source": [
    "x = np.array([[1, 2], [3, 4]])\n",
    "np.sum(x), np.sum(x, axis=0), np.sum(x, axis=1)"
   ]
  },
  {
   "cell_type": "markdown",
   "metadata": {},
   "source": [
    "## Aufgabe 1 - Numpy Arrays\n",
    "\n",
    "a) Erstelle ein Array `a`, das 11 Werte zwischen 317 und 456 in linearem Abstand enthält."
   ]
  },
  {
   "cell_type": "code",
   "execution_count": null,
   "metadata": {
    "nbgrader": {
     "grade": false,
     "grade_id": "201-1a-sol",
     "locked": false,
     "schema_version": 1,
     "solution": true
    }
   },
   "outputs": [],
   "source": [
    "# DEINE LÖSUNG HIER"
   ]
  },
  {
   "cell_type": "code",
   "execution_count": null,
   "metadata": {
    "nbgrader": {
     "grade": true,
     "grade_id": "201-1a-test",
     "locked": true,
     "points": 1,
     "schema_version": 1,
     "solution": false
    }
   },
   "outputs": [],
   "source": [
    "from numpy.testing import assert_array_equal\n",
    "\n",
    "try:\n",
    "    a\n",
    "except NameError:\n",
    "    raise NameError(\n",
    "        \"Es gibt keine Variable 'a'. Weise das Array einer Variablen mit diesem Namen zu.\"\n",
    "    )\n",
    "assert_array_equal(\n",
    "    a,\n",
    "    np.array(\n",
    "        [317.0, 330.9, 344.8, 358.7, 372.6, 386.5, 400.4, 414.3, 428.2, 442.1, 456.0]\n",
    "    ),\n",
    ")\n",
    "print(\"Jup.\")"
   ]
  },
  {
   "cell_type": "markdown",
   "metadata": {},
   "source": [
    "b) Erstelle ein Array `b`, das 2x10 Nullen enthält.\n",
    "\n",
    "**Hinweis:** Verwende die passende Funktion, die `numpy` bereitstellt."
   ]
  },
  {
   "cell_type": "code",
   "execution_count": null,
   "metadata": {
    "nbgrader": {
     "grade": false,
     "grade_id": "201-1b-sol",
     "locked": false,
     "schema_version": 1,
     "solution": true
    }
   },
   "outputs": [],
   "source": [
    "# DEINE LÖSUNG HIER"
   ]
  },
  {
   "cell_type": "code",
   "execution_count": null,
   "metadata": {
    "nbgrader": {
     "grade": true,
     "grade_id": "201-1b-test",
     "locked": true,
     "points": 1,
     "schema_version": 1,
     "solution": false
    },
    "tags": []
   },
   "outputs": [],
   "source": [
    "from numpy.testing import assert_array_equal\n",
    "\n",
    "try:\n",
    "    b\n",
    "except NameError:\n",
    "    raise NameError(\n",
    "        \"Es gibt keine Variable 'b'. Weise das Array einer Variablen mit diesem Namen zu.\"\n",
    "    )\n",
    "assert_array_equal(b, [[0, 0, 0, 0, 0, 0, 0, 0, 0, 0], [0, 0, 0, 0, 0, 0, 0, 0, 0, 0]])\n",
    "print(\"Gut.\")"
   ]
  },
  {
   "cell_type": "markdown",
   "metadata": {},
   "source": [
    "c) Welche Form und welcher Datentyp hat folgendes Array? Speichere die Form und den Datentyp in den Variablen `array_shape` bzw. `array_dtype` ab."
   ]
  },
  {
   "cell_type": "code",
   "execution_count": null,
   "metadata": {},
   "outputs": [],
   "source": [
    "superconfusing = np.array(\n",
    "    [[[[[0, 1]], [[2, 3]], [[4, 5]]]], [[[[6, 7]], [[8, 9]], [[10, 11]]]]]\n",
    ")\n",
    "\n",
    "# DEINE LÖSUNG HIER"
   ]
  },
  {
   "cell_type": "code",
   "execution_count": null,
   "metadata": {},
   "outputs": [],
   "source": [
    "try:\n",
    "    array_shape\n",
    "except NameError:\n",
    "    raise NameError(\"Es gibt keine Variable 'array_shape'.\")\n",
    "try:\n",
    "    array_dtype\n",
    "except NameError:\n",
    "    raise NameError(\"Es gibt keine Variable 'array_dtype'.\")\n",
    "assert array_shape == (2, 1, 3, 1, 2), \"Das superconfusing array hat eine andere Form!\"\n",
    "assert array_dtype == \"int64\", \"Nope, das Array hat einen anderen Datentypen!\"\n",
    "print(\"Super! Du hast dich NICHT verwirren lassen!\")"
   ]
  },
  {
   "cell_type": "markdown",
   "metadata": {},
   "source": [
    "d) Erstelle ein Numpy-Array `foo`, das alle Zahlen von 0 bis einschließlich 23 enthält. Forme `foo` in ein zwei-dimensionales Array mit `reshape()` um. Die viele verschiedene Möglichkeiten gibt es dafür? Speichere die Anzahl in `num_possibilities` ab!"
   ]
  },
  {
   "cell_type": "code",
   "execution_count": null,
   "metadata": {},
   "outputs": [],
   "source": [
    "# DEINE LÖSUNG HIER"
   ]
  },
  {
   "cell_type": "code",
   "execution_count": null,
   "metadata": {},
   "outputs": [],
   "source": [
    "try:\n",
    "    foo\n",
    "except NameError:\n",
    "    raise NameError(\n",
    "        \"Es gibt keine Variable 'foo'. Weise das Array einer Variablen mit diesem Namen zu.\"\n",
    "    )\n",
    "try:\n",
    "    num_possibilities\n",
    "except NameError:\n",
    "    raise NameError(\"Es gibt keine Variable 'num_possibilities'.\")\n",
    "\n",
    "from numpy.testing import assert_array_equal\n",
    "\n",
    "assert_array_equal(\n",
    "    foo,\n",
    "    np.array([0, 1, 2, 3, 4, 5, 6, 7, 8, 9, 10, 11, 12, 13, 14, 15, 16, 17, 18, 19, 20, 21, 22, 23,]),  # fmt: skip\n",
    ")\n",
    "assert (\n",
    "    num_possibilities == 8\n",
    "), \"Leider falsch! Überlege nochmal genau. Veilleicht hast du ein paar Möglichkeiten vergessen?\"\n",
    "print(\"Super gemacht!\")"
   ]
  },
  {
   "cell_type": "markdown",
   "metadata": {},
   "source": [
    "e) Erstelle die beiden Vektoren $\\vec{v} = (1, -2.5, 3)$ und $\\vec{w} = (2, 2, 1)$ als Numpy-Arrays.\n",
    "Verrifiziere anschließend, dass die beiden Vektoren orthogonal sind!\n",
    "> **Hinweis:** Zwei Vektoren sind orthogonal, wenn ihr [_Skalarprodukt_](https://de.wikipedia.org/wiki/Skalarprodukt) (oder auf englisch: _dot-product_) null ist! Suche in der [Numpy Dokumentation](https://numpy.org/doc/stable/reference/routines.linalg.html) nach einer passenden Funktion und speichere das Ergebnis in der Variable `res`."
   ]
  },
  {
   "cell_type": "code",
   "execution_count": null,
   "metadata": {},
   "outputs": [],
   "source": [
    "# DEINE LÖSUNG HIER"
   ]
  },
  {
   "cell_type": "code",
   "execution_count": null,
   "metadata": {},
   "outputs": [],
   "source": [
    "from numpy.testing import assert_array_equal\n",
    "\n",
    "try:\n",
    "    v\n",
    "except NameError:\n",
    "    raise NameError(\n",
    "        \"Es gibt keine Variable 'v'. Weise das Array einer Variablen mit diesem Namen zu.\"\n",
    "    )\n",
    "try:\n",
    "    w\n",
    "except NameError:\n",
    "    raise NameError(\n",
    "        \"Es gibt keine Variable 'w'. Weise das Array einer Variablen mit diesem Namen zu.\"\n",
    "    )\n",
    "try:\n",
    "    res\n",
    "except NameError:\n",
    "    raise NameError(\n",
    "        \"Es gibt keine Variable 'res'. Weise der Variablen res das Ergebnis des Skalarprodukts zu.\"\n",
    "    )\n",
    "\n",
    "assert_array_equal(v, np.array([1.0, -2.5, 3.0]), \"Die Werte in v sind falsch!\")\n",
    "assert_array_equal(w, np.array([2.0, 2.0, 1.0]), \"Die Werte in w sind falsch!\")\n",
    "assert res == 0.0, \"Das Skalarprodukt ergibt nicht null!\"\n",
    "print(\"Gute Leistung! 👏\")"
   ]
  },
  {
   "cell_type": "markdown",
   "metadata": {},
   "source": [
    "f) Die Flugbahn eines Volleyballs wird näherungsweise durch die Formel $h = -0.4 * x^2 + 2 * x + 1$ beschrieben, wobei $h$ die Höhe des Balls in Abhängigkeit von der Entfernung $x$ von der Spielerin (alle Einheiten in Meter) ist.\n",
    "1. Erstelle eine Funktion `trajectory(x)`, die als Argument die aktuelle $x$-Koordinate des Balls annimmt und die dazugehörige Höhe $h$ zurückgibt\n",
    "2. Erstelle ein Array `xs`, das die Zahlen von 0 bis 7 im Abstand von 0,5 enthält. Berechne für alle Werte in `xs` die dazugehörige Höhe und speichere sie im Array `hs` ab."
   ]
  },
  {
   "cell_type": "code",
   "execution_count": null,
   "metadata": {},
   "outputs": [],
   "source": [
    "# DEINE LÖSUING HIER"
   ]
  },
  {
   "cell_type": "code",
   "execution_count": null,
   "metadata": {},
   "outputs": [],
   "source": [
    "from numpy.testing import assert_array_equal, assert_almost_equal\n",
    "\n",
    "try:\n",
    "    trajectory\n",
    "except NameError:\n",
    "    raise NameError(\"Es gibt keine Funktion mit dem Namen 'trajectory'.\")\n",
    "try:\n",
    "    xs\n",
    "except NameError:\n",
    "    raise NameError(\n",
    "        \"Es gibt keine Variable 'xs'. Weise das Array einer Variablen mit diesem Namen zu.\"\n",
    "    )\n",
    "try:\n",
    "    hs\n",
    "except NameError:\n",
    "    raise NameError(\n",
    "        \"Es gibt keine Variable 'hs'. Weise das Array einer Variablen mit diesem Namen zu.\"\n",
    "    )\n",
    "\n",
    "assert_array_equal(\n",
    "    xs,\n",
    "    np.array(\n",
    "        [0.0, 0.5, 1.0, 1.5, 2.0, 2.5, 3.0, 3.5, 4.0, 4.5, 5.0, 5.5, 6.0, 6.5, 7.0]\n",
    "    ),\n",
    ")\n",
    "assert_almost_equal(\n",
    "    hs,\n",
    "    np.array(\n",
    "        [1.0, 1.9, 2.6, 3.1, 3.4, 3.5, 3.4, 3.1, 2.6, 1.9, 1.0, -0.1, -1.4, -2.9, -4.6]\n",
    "    ),\n",
    ")\n",
    "print(\"Gute Leistung! 🏐\")"
   ]
  },
  {
   "cell_type": "markdown",
   "metadata": {},
   "source": [
    "## Numpy Arrays sind Reihen\n",
    "\n",
    "Wir können alle Funktionen auf Numpy Arrays anwenden die für Reihen definiert sind:"
   ]
  },
  {
   "cell_type": "code",
   "execution_count": null,
   "metadata": {},
   "outputs": [],
   "source": [
    "a = np.arange(3)\n",
    "len(a)"
   ]
  },
  {
   "cell_type": "code",
   "execution_count": null,
   "metadata": {},
   "outputs": [],
   "source": [
    "for x in a:\n",
    "    print(x)"
   ]
  },
  {
   "cell_type": "code",
   "execution_count": null,
   "metadata": {},
   "outputs": [],
   "source": [
    "a[0]"
   ]
  },
  {
   "cell_type": "markdown",
   "metadata": {},
   "source": [
    "### Slicing wählt Teile eines Arrays aus\n",
    "\n",
    "Die **[Slicing](101%20-%20Grundlagen%20der%20Programmierung%20in%20Python.ipynb#Slicing)** Syntax von Reihen haben wir schon kennengelernt. Sie erlaubt uns, auf einzelne Elemente oder Teile einer Reihe zuzugreifen:\n",
    "\n",
    "```python\n",
    "a[start:stop:step]\n",
    "```\n",
    "\n",
    "Numpy erweitert diese Syntax auf mehrdimensionale Arrays:\n",
    "\n",
    "```python\n",
    "b[start:stop:step, start:stop:step]\n",
    "```"
   ]
  },
  {
   "cell_type": "code",
   "execution_count": null,
   "metadata": {},
   "outputs": [],
   "source": [
    "x = np.arange(10)"
   ]
  },
  {
   "cell_type": "code",
   "execution_count": null,
   "metadata": {},
   "outputs": [],
   "source": [
    "x[:5]"
   ]
  },
  {
   "cell_type": "code",
   "execution_count": null,
   "metadata": {},
   "outputs": [],
   "source": [
    "x[::2]"
   ]
  },
  {
   "cell_type": "markdown",
   "metadata": {},
   "source": [
    "Alternativ können wir statt einem Index auch eine **Liste von Indizes** in das Subskript schreiben und erhalten die zugehörigen Elemente aus dem Array:"
   ]
  },
  {
   "cell_type": "code",
   "execution_count": null,
   "metadata": {},
   "outputs": [],
   "source": [
    "x = np.array([1, 6, 4, 7, 9])\n",
    "indices = [1, 0, 2, 1]\n",
    "x[indices]"
   ]
  },
  {
   "cell_type": "markdown",
   "metadata": {},
   "source": [
    "### Masking filtert ein Array\n",
    "\n",
    "Außerdem erweitert Numpy diese Syntax um die **Masking** Funktionalität. Dabei geben wir im Subskript ein **Array von Booleans** an, welches die gleiche Länge hat, und erhalten nur die Elemente, für die wir `True` angegeben haben:"
   ]
  },
  {
   "cell_type": "code",
   "execution_count": null,
   "metadata": {},
   "outputs": [],
   "source": [
    "x = np.array([1, 6, 4, 7, 9])\n",
    "mask = np.array([True, True, False, False, True])\n",
    "x[mask]"
   ]
  },
  {
   "cell_type": "markdown",
   "metadata": {},
   "source": [
    "Masking ist deshalb äußerst praktisch, weil die **Vergleichsoperatoren** in Kombination mit Numpy Arrays wiederum Boolean Arrays zurückgeben:"
   ]
  },
  {
   "cell_type": "code",
   "execution_count": null,
   "metadata": {},
   "outputs": [],
   "source": [
    "x > 4"
   ]
  },
  {
   "cell_type": "markdown",
   "metadata": {},
   "source": [
    "Somit können wir Teile eines Arrays herausfiltern, die einer **Bedingung** entsprechen:"
   ]
  },
  {
   "cell_type": "code",
   "execution_count": null,
   "metadata": {},
   "outputs": [],
   "source": [
    "x[x > 4]"
   ]
  },
  {
   "cell_type": "markdown",
   "metadata": {},
   "source": [
    "Bedingungen werden mit dem `&` Operator kombiniert:"
   ]
  },
  {
   "cell_type": "code",
   "execution_count": null,
   "metadata": {},
   "outputs": [],
   "source": [
    "x[(x > 4) & (x < 8)]"
   ]
  },
  {
   "cell_type": "markdown",
   "metadata": {},
   "source": [
    "### Slices oder Masken eines Arrays kann auch zugewiesen werden\n",
    "\n",
    "Wenn ein Slice oder eine Maske eines Arrays auf der linken Seite einer Zuweisung steht, wird diesem Teil des Original-Arrays zugewiesen:"
   ]
  },
  {
   "cell_type": "code",
   "execution_count": null,
   "metadata": {},
   "outputs": [],
   "source": [
    "x = np.array([1, 6, 4, 7, 9])\n",
    "x[x > 4] = 0\n",
    "x"
   ]
  },
  {
   "cell_type": "markdown",
   "metadata": {},
   "source": [
    "## Aufgabe 2 - Masken & Slicing\n",
    "\n",
    "a) Gegeben ein Array `x` der Länge `n`, berechne das Array `dx` der Länge `n-1` mit den Werten `dx[i] = x[i+1] - x[i]`. Verwende keine Schleifen sondern Slicing!\n",
    "\n",
    "**Hinweis:** Du musst zwei Arrays subtrahieren, von denen das eine der um 1 versetzte hintere und das andere der vordere Teil von `x` ist.\n",
    "\n",
    "**Erinnerung:** Mit negativen Zahlen im Subskript wählst du Indizes vom Ende einer Reihe aus."
   ]
  },
  {
   "cell_type": "code",
   "execution_count": null,
   "metadata": {
    "nbgrader": {
     "grade": false,
     "grade_id": "201-2a-sol",
     "locked": false,
     "schema_version": 1,
     "solution": true
    }
   },
   "outputs": [],
   "source": [
    "x = np.array([1, 1, 2, 3, 5, 8])\n",
    "### BEGIN SOLUTION\n",
    "\n",
    "### END SOLUTION"
   ]
  },
  {
   "cell_type": "code",
   "execution_count": null,
   "metadata": {
    "nbgrader": {
     "grade": true,
     "grade_id": "201-2a-test",
     "locked": true,
     "points": 1,
     "schema_version": 1,
     "solution": false
    }
   },
   "outputs": [],
   "source": [
    "from numpy.testing import assert_array_equal\n",
    "\n",
    "try:\n",
    "    dx\n",
    "except NameError:\n",
    "    raise NameError(\n",
    "        \"Es gibt keine Variable 'dx'. Weise das Array einer Variablen mit diesem Namen zu.\"\n",
    "    )\n",
    "assert_array_equal(dx, [0, 1, 1, 2, 3])\n",
    "print(\"EZ 😉\")"
   ]
  },
  {
   "cell_type": "markdown",
   "metadata": {},
   "source": [
    "b) Gehen wir zurück zu unserem Volleyballbeispiel von vorhin! \n",
    "Wir interessieren uns jetzt für den Ort $x$, an dem der Ball auf den Boden auftritt.\n",
    "Genau genommen könnten wir den Ort exakt analytisch ausrechnen - und das wäre hier auch die bessere und genauere Variante.\n",
    "Es gibt aber viele mathematische Ausdrücke, die sich nicht analytisch ausrechnen lassen.\n",
    "Dann müssen wir das Ergebnis mit numerischen Methoden näherungsweise bestimmen.\n",
    "Das wollen wir jetzt üben!\n",
    "\n",
    "Wieder berechnen wir den Ort des Balls an verschiedenen diskreten Orten $x$.\n",
    "Diesmal brauchen wir aber viel mehr Punkte als oben.\n",
    "Da wir wissen, dass der Ball ungefähr zwischen $x = 5\\mathrm{m}$ und $x = 5,5\\mathrm{m}$ auftrifft, erstellen wir ein Array `xs_highres`, dass im Intervall von 5 bis 5.5 100 Werte im gleichen Abstand enthält.\n",
    "\n",
    "Für alle Werte berechnen wir nun die Höhe mit der Funktion `trajectory()` von oben und speichern es in der Variablen `hs_highres` ab.\n",
    "Bestimme nun den Index des Werts, an dem die Höhe des Balls sein Vorzeichen wechselt (d.h. des kleinsten positiven Werts im Array).\n",
    "Speichere den Index in der Variablen `i_zero` ab. \n",
    "Bestimme nun den x-Wert des Balls an dieser Stelle und speichere dein Ergebnis `x_zero` ab.\n",
    "\n",
    "> **Tipp:** Wie (fast) immer gibt es auch für diese Aufgabe hilfreiche numpy-Funktionen. Weiter oben im Tutorial haben wir eventuell schon nützliche Funktionen eingeführt. Und wenn dir das nicht weiterhelfen sollte, probiere `np. <TAB>` oder suche in der numpy-Dokumentation!"
   ]
  },
  {
   "cell_type": "code",
   "execution_count": null,
   "metadata": {
    "nbgrader": {
     "grade": false,
     "grade_id": "201-2b-sol",
     "locked": false,
     "schema_version": 1,
     "solution": true
    }
   },
   "outputs": [],
   "source": [
    "# DEIN ERGEBIS HIER"
   ]
  },
  {
   "cell_type": "code",
   "execution_count": null,
   "metadata": {
    "nbgrader": {
     "grade": true,
     "grade_id": "201-2b-test",
     "locked": true,
     "points": 1,
     "schema_version": 1,
     "solution": false
    }
   },
   "outputs": [],
   "source": [
    "from numpy.testing import assert_array_equal\n",
    "\n",
    "try:\n",
    "    xs_highres\n",
    "except NameError:\n",
    "    raise NameError(\n",
    "        \"Es gibt keine Variable 'xs_highres'. Weise das Array einer Variablen mit diesem Namen zu.\"\n",
    "    )\n",
    "try:\n",
    "    hs_highres\n",
    "except NameError:\n",
    "    raise NameError(\n",
    "        \"Es gibt keine Variable 'hs_highres'. Weise das Array einer Variablen mit diesem Namen zu.\"\n",
    "    )\n",
    "try:\n",
    "    i_zero\n",
    "except NameError:\n",
    "    raise NameError(\"Es gibt keine Variable 'i_zero'.\")\n",
    "\n",
    "assert (\n",
    "    i_zero == 90\n",
    "), \"Der Index ist falsch! Beachte, dass die Zählweise von Indizes in Python bei null beginnt!\"\n",
    "assert x_zero == 5.454545454545455, \"Der x-Wert ist falsch!\"\n",
    "print(\"Super! 🤾‍♀️\")"
   ]
  },
  {
   "cell_type": "markdown",
   "metadata": {},
   "source": [
    "c) Was ist die maximale Höhe des Balls? Und an welcher Stelle erreicht er sie?\n",
    "Wir wissen, dass die Lösung irgendwo zwischen 2 und 3 Metern liegen muss.\n",
    "Erstelle daher wieder ein Array, dass 100 Werte zwischen 2 und 3 enthält und speichere die Lösungen in `h_max` und `x_max` ab."
   ]
  },
  {
   "cell_type": "code",
   "execution_count": null,
   "metadata": {
    "nbgrader": {
     "grade": false,
     "grade_id": "201-2c-sol",
     "locked": false,
     "schema_version": 1,
     "solution": true
    }
   },
   "outputs": [],
   "source": [
    "# DEINE LÖSUNG HIER"
   ]
  },
  {
   "cell_type": "code",
   "execution_count": null,
   "metadata": {
    "nbgrader": {
     "grade": true,
     "grade_id": "201-2c-test",
     "locked": true,
     "points": 1,
     "schema_version": 1,
     "solution": false
    }
   },
   "outputs": [],
   "source": [
    "try:\n",
    "    h_max\n",
    "except NameError:\n",
    "    raise NameError(\"Es gibt keine Variable 'h_max'.\")\n",
    "try:\n",
    "    x_max\n",
    "except NameError:\n",
    "    raise NameError(\"Es gibt keine Variable 'x_max'.\")\n",
    "assert h_max == 3.4999897969594937\n",
    "assert x_max == 2.494949494949495\n",
    "print(\"👌\")"
   ]
  },
  {
   "cell_type": "markdown",
   "metadata": {},
   "source": [
    "## Daten einlesen und speichern"
   ]
  },
  {
   "cell_type": "markdown",
   "metadata": {},
   "source": [
    "Mit der `numpy.loadtxt` Funktion können wir Daten aus einer Datei als Numpy Array einlesen:"
   ]
  },
  {
   "cell_type": "code",
   "execution_count": null,
   "metadata": {},
   "outputs": [],
   "source": [
    "data = np.loadtxt(\"data/temperatures.txt\")\n",
    "data.shape"
   ]
  },
  {
   "cell_type": "markdown",
   "metadata": {},
   "source": [
    "> **Hinweis:** Pfade zu Dateien werden in Python einfach als String angegeben. Der Schrägstrich `/` kennzeichnet dabei einen Ordner. Windows verwendet statt des `/` den Backslash. Das heißt also, dass sich das File `temperatures.txt` im Ordner `data` befindet.\n",
    "\n",
    "> **Gut zu wissen:** Es gibt zwei Arten, Pfade anzugeben: Absolute und relative.\n",
    "\n",
    "1) Bei _absolute Pfaden_ musst du immer den gesamten Pfad, sozusagen von der \"Wurzel\" des Dateibaumes bis zur eigentlichen Datei angeben. In Linux wäre das z.b. `/home/asterix/Documents/path/to/my/file.txt`. In Windows sowas wie: `C:\\Documents\\path\\to\\my\\file,txt`.\n",
    "2) _Relative Pfade_ beziehen sich immer auf den Ort, an dem der Pythoncode ausgeführt wird (in unserem Fall, an dem das Jupyter-Notebook gespeichert ist). Das obige Beispiel `data/temperatures.txt` ist so ein relativer Pfad. Man erkennt das daran, dass er nicht mit einem `/` oder dem Laufwerksbuchstaben beginnt. Will man im Verzeichnisbaum \"nach oben\" (also Richtung Wurzel, d.h. ins \"Elternverzeichnis\") gehen, benutzt man zwei Punkte `..`. Richtig verwirrend, oder? \n",
    "\n",
    "**PS:** EBRAINS läuft auf einem Linux-Cluster!"
   ]
  },
  {
   "cell_type": "markdown",
   "metadata": {},
   "source": [
    "Die Funktion gibt ein zweidimensionales Array mit den _Zeilen_ der eingelesenen Datei zurück. Alle Werte einer _Spalte_ können wir durch Slicing erhalten:"
   ]
  },
  {
   "cell_type": "code",
   "execution_count": null,
   "metadata": {},
   "outputs": [],
   "source": [
    "date = data[:, 0]  # Alle Zeilen, jeweils erste Spalte\n",
    "T = data[:, 1]  # Alle Zeilen, jeweils zweite Spalte\n",
    "date, T"
   ]
  },
  {
   "cell_type": "markdown",
   "metadata": {},
   "source": [
    "> **Hinweis:** Die `numpy.loadtxt` Funktion kann auch direkt ein Array für jede Spalte zurückgeben, wenn das Argument `unpack=True` übergeben wird:\n",
    ">\n",
    "> ```python\n",
    "> date, T = np.loadtxt('data/temperatures.txt', unpack=True)\n",
    "> ```\n",
    "\n",
    "Weitere praktische Optionen, wie die ersten Zeilen zu überspringen u.ä., findet ihr in der Dokumentation. Entfernt das '`#`'-Zeichen in der folgenden Zelle und schaut euch die Optionen mal an:"
   ]
  },
  {
   "cell_type": "code",
   "execution_count": null,
   "metadata": {},
   "outputs": [],
   "source": [
    "# np.loadtxt?"
   ]
  },
  {
   "cell_type": "markdown",
   "metadata": {},
   "source": [
    "Mit der verwandten `np.savetxt` Funktion können wir Daten als Textdatei abspeichern:"
   ]
  },
  {
   "cell_type": "code",
   "execution_count": null,
   "metadata": {},
   "outputs": [],
   "source": [
    "# np.savetxt?"
   ]
  },
  {
   "cell_type": "markdown",
   "metadata": {},
   "source": [
    "> **Hinweis:** Im Jupyter Notebook erhalten wir eine praktische Vorschau auf den Anfang einer Datei mit dem `!head path/to/file` Aufruf. Dies ist sehr hilfreich um die enthaltenen Daten zu prüfen, oder ob es Titelzeilen zu Überspringen gibt."
   ]
  },
  {
   "cell_type": "code",
   "execution_count": null,
   "metadata": {},
   "outputs": [],
   "source": [
    "!head data/temperatures.txt"
   ]
  },
  {
   "cell_type": "markdown",
   "metadata": {},
   "source": [
    "### Berechnungen zwischenspeichern mit `numpy.save`\n",
    "\n",
    "Die `numpy.loadtxt` und `numpy.savetxt` Funktionen arbeiten mit Textdateien. Wenn ihr ein Numpy Array jedoch nur zwischenspeichern möchtet, bspw. das Ergebnis einer langen numerischen Berechnung, könnt ihr es auch mit `numpy.save` in einer `.npy` Binärdatei speichern:"
   ]
  },
  {
   "cell_type": "code",
   "execution_count": null,
   "metadata": {},
   "outputs": [],
   "source": [
    "# lange numerischen Berechnung hier\n",
    "result = np.random.random(10)\n",
    "print(result)\n",
    "# Ergebnis zwischenspeichern\n",
    "np.save(\"data/result.npy\", result)"
   ]
  },
  {
   "cell_type": "markdown",
   "metadata": {},
   "source": [
    "Anstatt die Berechnung jedes Mal erneut durchführen zu müssen, könnt ihr nun einfach mit `numpy.load` das zwischengespeicherte Ergebnis laden:"
   ]
  },
  {
   "cell_type": "code",
   "execution_count": null,
   "metadata": {},
   "outputs": [],
   "source": [
    "result = np.load(\"data/result.npy\")\n",
    "print(result)"
   ]
  },
  {
   "cell_type": "markdown",
   "metadata": {},
   "source": [
    "> **Hinweis:** Diese Vorgehensweise kann viel Zeit sparen während ihr an einem Teil eures Programms arbeitet, das die numerische Berechnung nicht betrifft, bspw. die graphische Ausgabe als Plot."
   ]
  },
  {
   "cell_type": "markdown",
   "metadata": {},
   "source": [
    "## Aufgabe 3 - Temperaturen in Heidelberg\n",
    "\n",
    "Die Datei `data/temperatures.txt` enthält Temperaturdaten aus Heidelberg von 1995 bis einschließlich 2012. Schaue dir die Struktur der Daten zunächst an:"
   ]
  },
  {
   "cell_type": "code",
   "execution_count": null,
   "metadata": {},
   "outputs": [],
   "source": [
    "!head data/temperatures.txt"
   ]
  },
  {
   "cell_type": "markdown",
   "metadata": {},
   "source": [
    "a) Lies die Daten mithilfe der `numpy.loadtxt` Funktion ein und weise die beiden Spalten zwei Variablen `date` und `T` zu."
   ]
  },
  {
   "cell_type": "code",
   "execution_count": null,
   "metadata": {
    "nbgrader": {
     "grade": false,
     "grade_id": "201-3a-sol",
     "locked": false,
     "schema_version": 1,
     "solution": true
    }
   },
   "outputs": [],
   "source": [
    "# DEINE LÖSUNG HIER"
   ]
  },
  {
   "cell_type": "code",
   "execution_count": null,
   "metadata": {
    "nbgrader": {
     "grade": true,
     "grade_id": "201-3a-test",
     "locked": true,
     "points": 1,
     "schema_version": 1,
     "solution": false
    }
   },
   "outputs": [],
   "source": [
    "from numpy.testing import assert_array_almost_equal\n",
    "\n",
    "try:\n",
    "    date\n",
    "except NameError:\n",
    "    raise NameError(\n",
    "        \"Es gibt keine Variable 'date'. Weise das Array einer Variablen mit diesem Namen zu.\"\n",
    "    )\n",
    "try:\n",
    "    T\n",
    "except NameError:\n",
    "    raise NameError(\n",
    "        \"Es gibt keine Variable 'T'. Weise das Array einer Variablen mit diesem Namen zu.\"\n",
    "    )\n",
    "\n",
    "assert_array_almost_equal(\n",
    "    date[:3],\n",
    "    [1995.00274, 1995.00548, 1995.00821],\n",
    "    4,\n",
    "    \"Das Array 'date' enthält nicht die richtigen Daten. Verwende die 'unpack=True' Funktion von 'numpy.loadtxt' wie im Hinweis oben.\",\n",
    ")\n",
    "assert_array_almost_equal(\n",
    "    T[:3],\n",
    "    [0.944444, -1.61111, -3.55556],\n",
    "    4,\n",
    "    \"Das Array 'T' enthält nicht die richtigen Daten. Verwende die 'unpack=True' Funktion von 'numpy.loadtxt' wie im Hinweis oben.\",\n",
    ")\n",
    "print(\"Daten eingelesen!\")"
   ]
  },
  {
   "cell_type": "markdown",
   "metadata": {},
   "source": [
    "b) Berechne für jedes Jahr von 1995 bis einschließlich 2012 die Durchschnittstemperatur, die minimale und die maximale Temperatur. Füge dabei der Liste `yearly_temperatures` für jedes Jahr eine Zeile mit dem Jahr und diesen drei Werten hinzu.\n",
    "\n",
    "Die Datei enthält fehlerhafte Daten, die durch den Wert `+/-99` gekennzeichnet sind und nicht in die Berechnung mit einbezogen werden dürfen.\n",
    "\n",
    "**Hinweis:** Gehe die Jahre in einer for-Schleife durch und verwende eine Maske für das Array `T`, sodass du nur die Temperaturdaten des entsprechenden Jahres als Slice erhälst. Darauf kannst du dann die Numpy Funktionen für den Mittelwert, das Minimum und das Maximum anwenden.\n",
    "\n",
    "**Erinnerung:** Mehrere Masken kannst du mit dem `&`-Operator kombinieren."
   ]
  },
  {
   "cell_type": "code",
   "execution_count": null,
   "metadata": {
    "nbgrader": {
     "grade": false,
     "grade_id": "201-3b-sol",
     "locked": false,
     "schema_version": 1,
     "solution": true
    }
   },
   "outputs": [],
   "source": [
    "yearly_temperatures = []\n",
    "### BEGIN SOLUTION\n",
    "\n",
    "### END SOLUTION\n",
    "print(\"Jahr  |  Durchschnitt [°C]  |  Minimal [°C]  |  Maximal  [°C]\")\n",
    "for temps in yearly_temperatures:\n",
    "    print(\"{}  |               {:6.2f}  |        {:6.2f}  |         {:6.2f}  \".format(*temps))  # fmt: skip\n",
    "    # Die Zahlen in der Klammer {:6.2f} erlauben es, Zahlen mit .format() zu formattieren!\n",
    "    # Wenn du mehr darüber wissen willst: https://pyformat.info/"
   ]
  },
  {
   "cell_type": "code",
   "execution_count": null,
   "metadata": {
    "nbgrader": {
     "grade": true,
     "grade_id": "201-3b-test",
     "locked": true,
     "points": 1,
     "schema_version": 1,
     "solution": false
    }
   },
   "outputs": [],
   "source": [
    "from numpy.testing import assert_array_almost_equal\n",
    "\n",
    "assert_array_almost_equal(\n",
    "    yearly_temperatures[0],\n",
    "    [1995, 8.7656, -13.2778, 25.9444],\n",
    "    4,\n",
    "    \"Die Daten sind nicht richtig. Überprüfe, ob jedes Element der Liste 'yearly_temperatures' wiederum eine Liste mit den Werten Jahr, Durchschnittstemperatur, Minimum und Maximum ist und du die fehlerhaften Werte +/-99 herausgefiltert hast.\",\n",
    ")\n",
    "print(\"Ganz schön warm, oder? ☀️🌴😅\")"
   ]
  },
  {
   "cell_type": "markdown",
   "metadata": {},
   "source": [
    "c) Berechne diese Daten analog aufgeteilt in Monate statt Jahre, also bspw. die Durschnittstemperatur im Januar im ganzen gemessenen Zeitraum.\n",
    "\n",
    "**Hinweis:** Den Zeitpunkt innerhalb eines Jahres, wobei `0` dem Jahresanfang und `1` dem Jahresende entspricht, erhälst du mit dem Modulo Operator: `date % 1`"
   ]
  },
  {
   "cell_type": "code",
   "execution_count": null,
   "metadata": {
    "nbgrader": {
     "grade": false,
     "grade_id": "201-3c-sol",
     "locked": false,
     "schema_version": 1,
     "solution": true
    }
   },
   "outputs": [],
   "source": [
    "monthly_temperatures = []\n",
    "### BEGIN SOLUTION\n",
    "\n",
    "### END SOLUTION\n",
    "print(\"Monat |  Durchschnitt [°C]  |  Minimal [°C]  |  Maximal  [°C]\")\n",
    "for temps in monthly_temperatures:\n",
    "    print(\"  {:02d}  |             {:6.2f}  |        {:6.2f}  |         {:6.2f}  \".format(*temps))  # fmt: skip"
   ]
  },
  {
   "cell_type": "code",
   "execution_count": null,
   "metadata": {
    "nbgrader": {
     "grade": true,
     "grade_id": "201-3c-test",
     "locked": true,
     "points": 1,
     "schema_version": 1,
     "solution": false
    }
   },
   "outputs": [],
   "source": [
    "from numpy.testing import assert_array_almost_equal\n",
    "\n",
    "assert_array_almost_equal(\n",
    "    monthly_temperatures[0][1:],\n",
    "    [-0.8494, -16.7778, 12.2222],\n",
    "    4,\n",
    "    \"Die Daten sind nicht richtig. Überprüfe, ob jedes Element der Liste 'monthly_temperatures' wiederum eine Liste mit den Werten Monat, Durchschnittstemperatur, Minimum und Maximum ist und du die fehlerhaften Werte +/-99 herausgefiltert hast.\",\n",
    ")\n",
    "print(\"👍 Sieht richtig aus.\")"
   ]
  },
  {
   "cell_type": "markdown",
   "metadata": {},
   "source": [
    "## Numpy Performancetest\n",
    "\n",
    "Zum Schluss wollen noch etwas Spaßiges machen und uns von Numpys unglaublicher Performance überzeugen. Dafür erstellen wir ein Numpy-Array mit einer Million (!) zufälligen Zahlen und berechnen die Summe darüber. Dasselbe machen wir mit einer normalen Pythonliste und vergleichen die Ausführungszeiten.\n",
    "> **Hinweis:** Mit dem _\"magischen\" Jupyterbefehl_ (oder auf Englisch: _cell magic_) `%%timeit` kannst du die Ausführungszeit für eine Jupyterzelle messen."
   ]
  },
  {
   "cell_type": "code",
   "execution_count": null,
   "metadata": {},
   "outputs": [],
   "source": [
    "%%timeit\n",
    "# Numpyversion:\n",
    "random_array = np.random.random_sample(1_000_000)  # erstelle 10^6 Zufallszahlen\n",
    "res = np.sum(random_array)"
   ]
  },
  {
   "cell_type": "code",
   "execution_count": null,
   "metadata": {},
   "outputs": [],
   "source": [
    "import random"
   ]
  },
  {
   "cell_type": "code",
   "execution_count": null,
   "metadata": {},
   "outputs": [],
   "source": [
    "%%timeit\n",
    "# Standardpython-Version:\n",
    "random_list = []\n",
    "for i in range(1_000_000):\n",
    "    random_list.append(random.random())\n",
    "\n",
    "res = 0.0\n",
    "for i in random_list:\n",
    "    res += i"
   ]
  },
  {
   "cell_type": "markdown",
   "metadata": {},
   "source": [
    "---\n",
    "\n",
    "Du kannst jetzt Daten einlesen und mit Numpy analysieren. Lerne in der nächsten Lektion, wie du mit _Matplotlib_ wissenschaftlich plotten kannst.\n",
    "\n",
    "[Startseite](index.ipynb) | [**>> 202 - Plots mit Matplotlib**](202_Plots_mit_Matplotlib.ipynb)"
   ]
  }
 ],
 "metadata": {
  "kernelspec": {
   "display_name": "Python 3",
   "language": "python",
   "name": "python3"
  },
  "language_info": {
   "codemirror_mode": {
    "name": "ipython",
    "version": 3
   },
   "file_extension": ".py",
   "mimetype": "text/x-python",
   "name": "python",
   "nbconvert_exporter": "python",
   "pygments_lexer": "ipython3",
   "version": "3.6.9"
  }
 },
 "nbformat": 4,
 "nbformat_minor": 4
}
